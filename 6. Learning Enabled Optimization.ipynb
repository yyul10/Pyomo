{
 "cells": [
  {
   "cell_type": "code",
   "execution_count": 1,
   "metadata": {},
   "outputs": [
    {
     "data": {
      "text/html": [
       "<div>\n",
       "<style scoped>\n",
       "    .dataframe tbody tr th:only-of-type {\n",
       "        vertical-align: middle;\n",
       "    }\n",
       "\n",
       "    .dataframe tbody tr th {\n",
       "        vertical-align: top;\n",
       "    }\n",
       "\n",
       "    .dataframe thead th {\n",
       "        text-align: right;\n",
       "    }\n",
       "</style>\n",
       "<table border=\"1\" class=\"dataframe\">\n",
       "  <thead>\n",
       "    <tr style=\"text-align: right;\">\n",
       "      <th></th>\n",
       "      <th>TV</th>\n",
       "      <th>Radio</th>\n",
       "      <th>Sales</th>\n",
       "    </tr>\n",
       "  </thead>\n",
       "  <tbody>\n",
       "    <tr>\n",
       "      <th>0</th>\n",
       "      <td>230.1</td>\n",
       "      <td>37.8</td>\n",
       "      <td>26.52</td>\n",
       "    </tr>\n",
       "    <tr>\n",
       "      <th>1</th>\n",
       "      <td>44.5</td>\n",
       "      <td>39.3</td>\n",
       "      <td>12.48</td>\n",
       "    </tr>\n",
       "    <tr>\n",
       "      <th>2</th>\n",
       "      <td>17.2</td>\n",
       "      <td>45.9</td>\n",
       "      <td>11.16</td>\n",
       "    </tr>\n",
       "  </tbody>\n",
       "</table>\n",
       "</div>"
      ],
      "text/plain": [
       "      TV  Radio  Sales\n",
       "0  230.1   37.8  26.52\n",
       "1   44.5   39.3  12.48\n",
       "2   17.2   45.9  11.16"
      ]
     },
     "execution_count": 1,
     "metadata": {},
     "output_type": "execute_result"
    }
   ],
   "source": [
    "import glob, os\n",
    "import pandas as pd\n",
    "import numpy as np\n",
    "from sklearn import linear_model\n",
    "from sklearn.model_selection import train_test_split\n",
    "from pyomo.environ import *\n",
    "import scipy.stats as st\n",
    "import scipy\n",
    "\n",
    "data = pd.read_csv('/Users/yul/Google 드라이브/USC/2019 Spring/ISE533 Projects/3. LEO-Wyndsor/Advertising.csv')\n",
    "data = data.drop([data.columns[0] , data.columns[3]],  axis=1)\n",
    "data.reset_index\n",
    "data.head(3)"
   ]
  },
  {
   "cell_type": "code",
   "execution_count": 2,
   "metadata": {},
   "outputs": [
    {
     "name": "stdout",
     "output_type": "stream",
     "text": [
      "(100, 2) (100, 1)\n",
      "(100, 2) (100, 1)\n"
     ]
    }
   ],
   "source": [
    "X = data[['TV','Radio']]\n",
    "Y = data[['Sales']]\n",
    "\n",
    "np.random.seed(1)\n",
    "X_t, X_v, Y_t, Y_v = train_test_split(X, Y, test_size=0.5)\n",
    "print (X_t.shape, Y_t.shape)\n",
    "print (X_v.shape, Y_v.shape)"
   ]
  },
  {
   "cell_type": "code",
   "execution_count": 3,
   "metadata": {},
   "outputs": [],
   "source": [
    "# X_t = X[:100]\n",
    "# X_v = X[100:200]\n",
    "# Y_t = Y[:100]\n",
    "# Y_v = Y[100:200]"
   ]
  },
  {
   "cell_type": "code",
   "execution_count": 4,
   "metadata": {},
   "outputs": [
    {
     "name": "stdout",
     "output_type": "stream",
     "text": [
      "Intercept: \n",
      " [3.74982951]\n",
      "Coefficients: \n",
      " [[0.05370186 0.22231025]]\n"
     ]
    }
   ],
   "source": [
    "regr = linear_model.LinearRegression()\n",
    "regr.fit(X_t, Y_t)\n",
    "\n",
    "print('Intercept: \\n', regr.intercept_)\n",
    "print('Coefficients: \\n', regr.coef_)"
   ]
  },
  {
   "cell_type": "code",
   "execution_count": 5,
   "metadata": {},
   "outputs": [
    {
     "name": "stdout",
     "output_type": "stream",
     "text": [
      "[3.9323, 2.6324, -3.1408, -0.3789, 3.7175, -0.7154, -0.0245, 2.5941, -0.0305, -0.3112]\n",
      "[-2.01, 2.7088, -0.4833, -1.6373, -3.0267, 1.3714, -1.3194, 10.6709, -1.9522, 1.2065]\n",
      "[0.2786, -0.3919, -2.7767, -0.2428, -1.8458, -0.4796, 0.1375, -0.6534, -0.9684, -1.7311]\n",
      "[-2.2169, 0.9958, -2.405, 2.6091, -1.6641, 1.167, 4.8966, 2.3375, -1.0663, -0.6731]\n",
      "[-1.8048, 2.8722, -0.9826, 3.1187, -1.295, -2.0326, 0.1602, -0.8889, -0.3146, -0.3717]\n",
      "[-2.4787, -0.0625, -2.6977, 1.2482, -1.7434, -1.1329, 3.3738, -1.6965, -0.2341, 3.3963]\n",
      "[2.048, 0.0905, 1.1836, 0.4437, -2.9092, -1.0815, -2.6525, -3.1664, 2.3964, -0.5076]\n",
      "[1.2734, -1.7652, -0.9546, -1.2779, -1.7421, -1.0183, -0.4392, 1.0994, -0.0678, 1.4886]\n",
      "[-1.1482, -0.0366, 0.1029, -1.4013, 2.4265, -0.8231, 0.0363, 4.9604, 4.2461, 1.3526]\n",
      "[-2.0547, -2.0218, -1.4739, -1.495, -1.509, -0.5191, -0.0872, 1.9653, -1.6092, 1.1035]\n"
     ]
    }
   ],
   "source": [
    "t_epsilon = regr.predict(X_t) - Y_t\n",
    "t_epsilon = t_epsilon['Sales'].to_list()\n",
    "\n",
    "t_epsilon = [round(x,4) for x in t_epsilon]\n",
    "# t_epsilon\n",
    "\n",
    "size = 10\n",
    "g = (t_epsilon[i:i+size] for i in range(0, len(t_epsilon), size))\n",
    "for i in g:\n",
    "    print(i)"
   ]
  },
  {
   "cell_type": "code",
   "execution_count": 6,
   "metadata": {},
   "outputs": [
    {
     "name": "stdout",
     "output_type": "stream",
     "text": [
      "[-2.4632, -0.338, -2.1997, 3.2824, 0.9946, -2.2833, -0.7357, 0.3801, -1.5019, 0.0437]\n",
      "[-0.1699, -1.5366, -0.2649, 0.2327, 1.6187, -0.3766, -0.5671, 4.9124, 2.3947, -0.457]\n",
      "[-1.5643, 0.5274, 0.6111, -1.1702, -0.599, 0.0111, -0.1199, 0.4555, -1.4757, 1.2762]\n",
      "[-1.9812, 2.8188, -1.0568, 0.5839, -0.4369, -0.2522, 2.649, -1.234, -1.6082, 0.1508]\n",
      "[-1.8178, -1.7688, -0.596, -0.7756, 3.7888, -0.5467, 0.8334, -1.425, -2.3351, -0.385]\n",
      "[-1.769, -0.1875, 0.4286, -1.6135, 1.5792, -0.254, 2.0442, -1.1022, 2.0459, 0.2968]\n",
      "[-0.2358, -1.626, 4.3269, 0.8347, -1.615, 6.448, -2.5033, -1.5695, 1.7034, -0.4897]\n",
      "[0.0198, -1.2655, -2.6862, 3.8214, 3.47, 0.5053, 1.791, -3.2495, -1.302, -1.3042]\n",
      "[-0.1942, -1.3887, 2.779, 2.3926, -1.6747, -0.9647, -1.2535, 3.4078, -0.3674, 0.275]\n",
      "[-0.3593, -2.66, 0.3508, -0.6519, -1.0253, 0.0241, -2.4962, -0.0375, 1.6696, 0.3316]\n"
     ]
    }
   ],
   "source": [
    "v_epsilon = regr.predict(X_v) - Y_v\n",
    "v_epsilon = v_epsilon['Sales'].to_list()\n",
    "# v_epsilon = v_epsilon.to_list()\n",
    "v_epsilon = [round(x,4) for x in v_epsilon]\n",
    "\n",
    "size = 10\n",
    "g = (v_epsilon[i:i+size] for i in range(0, len(v_epsilon), size))\n",
    "for i in g:\n",
    "    print(i)"
   ]
  },
  {
   "cell_type": "code",
   "execution_count": 7,
   "metadata": {},
   "outputs": [
    {
     "data": {
      "text/plain": [
       "<Figure size 640x480 with 1 Axes>"
      ]
     },
     "metadata": {},
     "output_type": "display_data"
    }
   ],
   "source": [
    "import matplotlib.pyplot as plt\n",
    "import statsmodels.api as sm\n",
    "\n",
    "norm_t_epsilon = [number-np.mean(t_epsilon)/scipy.std(t_epsilon) for number in t_epsilon]\n",
    "# norm_t_epsilon = norm_t_epsilon.sort()\n",
    "norm_v_epsilon = [number-np.mean(v_epsilon)/scipy.std(v_epsilon) for number in v_epsilon]\n",
    "# norm_v_epsilon = norm_v_epsilon.sort()\n",
    "\n",
    "qq1 = sorted(norm_t_epsilon)\n",
    "qq2 = sorted(norm_v_epsilon)\n",
    "\n",
    "dfqq1 = pd.DataFrame(qq1)\n",
    "dfqq2 = pd.DataFrame(qq2)\n",
    "\n",
    "sm.qqplot_2samples(dfqq1,dfqq2)\n",
    "plt.show()"
   ]
  },
  {
   "cell_type": "code",
   "execution_count": 8,
   "metadata": {},
   "outputs": [
    {
     "name": "stdout",
     "output_type": "stream",
     "text": [
      "The maximum is at position 17\n",
      "The minimum is at position 67\n"
     ]
    }
   ],
   "source": [
    "def outliers(a): \n",
    "    minpos = a.index(min(a)) \n",
    "    maxpos = a.index(max(a))   \n",
    "    print(\"The maximum is at position\", maxpos)\n",
    "    print(\"The minimum is at position\", minpos)\n",
    "outliers(t_epsilon)"
   ]
  },
  {
   "cell_type": "code",
   "execution_count": 9,
   "metadata": {
    "scrolled": true
   },
   "outputs": [
    {
     "data": {
      "text/plain": [
       "TV        0.7\n",
       "Radio    39.6\n",
       "Name: 130, dtype: float64"
      ]
     },
     "execution_count": 9,
     "metadata": {},
     "output_type": "execute_result"
    }
   ],
   "source": [
    "X_t.iloc[17]"
   ]
  },
  {
   "cell_type": "code",
   "execution_count": 10,
   "metadata": {},
   "outputs": [
    {
     "data": {
      "text/plain": [
       "TV       220.3\n",
       "Radio     49.0\n",
       "Name: 128, dtype: float64"
      ]
     },
     "execution_count": 10,
     "metadata": {},
     "output_type": "execute_result"
    }
   ],
   "source": [
    "X_t.iloc[67]"
   ]
  },
  {
   "cell_type": "code",
   "execution_count": 11,
   "metadata": {},
   "outputs": [
    {
     "data": {
      "text/plain": [
       "98"
      ]
     },
     "execution_count": 11,
     "metadata": {},
     "output_type": "execute_result"
    }
   ],
   "source": [
    "X_t = X_t.drop(X_t.index[[17,67]])\n",
    "Y_t = Y_t.drop(Y_t.index[[17,67]])\n",
    "len(X_t)"
   ]
  },
  {
   "cell_type": "markdown",
   "metadata": {},
   "source": [
    "#### Refit the Multiple Linear Regression model."
   ]
  },
  {
   "cell_type": "code",
   "execution_count": 12,
   "metadata": {},
   "outputs": [
    {
     "name": "stdout",
     "output_type": "stream",
     "text": [
      "Intercept: \n",
      " [4.07459792]\n",
      "Coefficients: \n",
      " [[0.05119161 0.22734845]]\n"
     ]
    }
   ],
   "source": [
    "lm = linear_model.LinearRegression()\n",
    "lm.fit(X_t, Y_t)\n",
    "\n",
    "print('Intercept: \\n', lm.intercept_)\n",
    "print('Coefficients: \\n', lm.coef_)"
   ]
  },
  {
   "cell_type": "code",
   "execution_count": 13,
   "metadata": {},
   "outputs": [],
   "source": [
    "beta0 = lm.intercept_.tolist()[0] ; beta1 = lm.coef_.tolist()[0][0] ; beta2 = lm.coef_.tolist()[0][1]"
   ]
  },
  {
   "cell_type": "code",
   "execution_count": 14,
   "metadata": {},
   "outputs": [
    {
     "name": "stdout",
     "output_type": "stream",
     "text": [
      "Kruskal Wallis H-test test:\n",
      "H-statistic: 0.2942328358209352\n",
      "P-Value: 0.587520710848539\n",
      "Accept NULL hypothesis - No significant difference between groups.\n"
     ]
    }
   ],
   "source": [
    "print(\"Kruskal Wallis H-test test:\")\n",
    "\n",
    "H, pval = st.mstats.kruskalwallis(norm_t_epsilon,norm_v_epsilon)\n",
    "\n",
    "print(\"H-statistic:\", H)\n",
    "print(\"P-Value:\", pval)\n",
    "\n",
    "if pval < 0.05:\n",
    "    print(\"Reject NULL hypothesis - Significant differences exist between groups.\")\n",
    "if pval > 0.05:\n",
    "    print(\"Accept NULL hypothesis - No significant difference between groups.\")"
   ]
  },
  {
   "cell_type": "markdown",
   "metadata": {},
   "source": [
    "### 1. Deterministic LP "
   ]
  },
  {
   "cell_type": "code",
   "execution_count": 15,
   "metadata": {},
   "outputs": [
    {
     "name": "stdout",
     "output_type": "stream",
     "text": [
      "Academic license - for non-commercial use only\n",
      "Gurobi 8.1.0Model unknown\n",
      "\n",
      "  Variables:\n",
      "    x : Size=2, Index=x_index\n",
      "        Key : Lower : Value              : Upper : Fixed : Stale : Domain\n",
      "         x1 :     0 : 190.42285279145614 :  None : False : False : NonNegativeReals\n",
      "         x2 :     0 :  9.577147208543863 :  None : False : False : NonNegativeReals\n",
      "    y : Size=2, Index=y_index\n",
      "        Key : Lower : Value : Upper : Fixed : Stale : Domain\n",
      "         ya :     0 :   4.0 :  None : False : False : NonNegativeReals\n",
      "         yb :     0 :  12.0 :  None : False : False : NonNegativeReals\n",
      "\n",
      "  Objectives:\n",
      "    obj : Size=1, Index=None, Active=True\n",
      "        Key  : Active : Value\n",
      "        None :   True : 48.16914111658245\n",
      "\n",
      "  Constraints:\n",
      "    c11 : Size=1\n",
      "        Key  : Lower : Body : Upper\n",
      "        None :  None :  4.0 :   8.0\n",
      "    c12 : Size=1\n",
      "        Key  : Lower : Body : Upper\n",
      "        None :  None : 24.0 :  24.0\n",
      "    c13 : Size=1\n",
      "        Key  : Lower : Body : Upper\n",
      "        None :  None : 36.0 :  36.0\n",
      "    c14 : Size=1\n",
      "        Key  : Lower : Body              : Upper\n",
      "        None :  None : 4.074597924665656 : 4.074597924665657\n",
      "    c21 : Size=1\n",
      "        Key  : Lower : Body  : Upper\n",
      "        None :  None : 200.0 : 200.0\n",
      "    c22 : Size=1\n",
      "        Key  : Lower : Body              : Upper\n",
      "        None :   0.0 : 185.6342791871842 :  None\n",
      "    c31 : Size=1\n",
      "        Key  : Lower : Body               : Upper\n",
      "        None :   4.1 : 190.42285279145614 :  None\n",
      "    c32 : Size=1\n",
      "        Key  : Lower : Body               : Upper\n",
      "        None :  None : 190.42285279145614 : 296.4\n",
      "    c33 : Size=1\n",
      "        Key  : Lower : Body              : Upper\n",
      "        None :   1.3 : 9.577147208543863 :  None\n",
      "    c34 : Size=1\n",
      "        Key  : Lower : Body              : Upper\n",
      "        None :  None : 9.577147208543863 :  49.4\n"
     ]
    }
   ],
   "source": [
    "# Create the model\n",
    "dm = ConcreteModel()\n",
    "opt = SolverFactory('gurobi_ampl')\n",
    "dm.dual = Suffix(direction=Suffix.IMPORT)\n",
    "\n",
    "# Define decision Variables\n",
    "X = ['x1','x2']; Y = ['ya','yb']\n",
    "\n",
    "dm.x = Var(X,domain=NonNegativeReals)\n",
    "dm.y = Var(Y,domain=NonNegativeReals)\n",
    "\n",
    "# Define Objective\n",
    "dm.obj = Objective(expr = -0.1 * dm.x['x1'] -0.5 * dm.x['x2']+ 3 * dm.y['ya'] + 5 * dm.y['yb'], sense=maximize)\n",
    "# Define Constraints\n",
    "dm.c11 = Constraint(expr = dm.y['ya'] <= 8)\n",
    "dm.c12 = Constraint(expr = 2 * dm.y['yb'] <= 24)\n",
    "dm.c13 = Constraint(expr = 3 * dm.y['ya'] + 2 * dm.y['yb'] <= 36)\n",
    "dm.c14 = Constraint(expr = dm.y['ya'] + dm.y['yb'] - beta1 * dm.x['x1'] - beta2 * dm.x['x2']  \n",
    "                   <= beta0)\n",
    "dm.c21 = Constraint(expr = dm.x['x1'] + dm.x['x2'] <= 200)\n",
    "dm.c22 = Constraint(expr = dm.x['x1'] - 0.5 * dm.x['x2'] >= 0)\n",
    "\n",
    "dm.c31 = Constraint(expr = dm.x['x1'] >= min(X_t['TV'].to_list()))\n",
    "dm.c32 = Constraint(expr = dm.x['x1'] <= max(X_t['TV'].to_list()))\n",
    "dm.c33 = Constraint(expr = dm.x['x2'] >= min(X_t['Radio'].to_list()))\n",
    "dm.c34 = Constraint(expr = dm.x['x2'] <= max(X_t['Radio'].to_list()))\n",
    "\n",
    "results = opt.solve(dm, tee=True)\n",
    "dm.display()\n",
    "# print(results)"
   ]
  },
  {
   "cell_type": "code",
   "execution_count": 16,
   "metadata": {},
   "outputs": [
    {
     "data": {
      "text/plain": [
       "48.16914111658245"
      ]
     },
     "execution_count": 16,
     "metadata": {},
     "output_type": "execute_result"
    }
   ],
   "source": [
    "dm.obj.expr()"
   ]
  },
  {
   "cell_type": "code",
   "execution_count": 17,
   "metadata": {},
   "outputs": [],
   "source": [
    "d_validation_list = []\n",
    "\n",
    "x1 = value(dm.x['x1']) \n",
    "x2 = value(dm.x['x2'])\n",
    "\n",
    "for i in range(len(v_epsilon)):\n",
    "    # Create the model\n",
    "    dm = ConcreteModel()\n",
    "    opt = SolverFactory('gurobi_ampl')\n",
    "    dm.dual = Suffix(direction=Suffix.IMPORT)\n",
    "\n",
    "    # Define decision Variables\n",
    "#     X = ['x1','x2']\n",
    "    Y = ['ya','yb']\n",
    "\n",
    "#     dm.x = Var(X,domain=NonNegativeReals)\n",
    "    dm.y = Var(Y,domain=NonNegativeReals)\n",
    "\n",
    "    # Define Objective\n",
    "    dm.obj = Objective(expr = -0.1 * x1 -0.5 * x2 + 3 * dm.y['ya'] + 5 * dm.y['yb'], sense=maximize)\n",
    "    # Define Constraints\n",
    "    dm.c11 = Constraint(expr = dm.y['ya'] <= 8)\n",
    "    dm.c12 = Constraint(expr = 2 * dm.y['yb'] <= 24)\n",
    "    dm.c13 = Constraint(expr = 3 * dm.y['ya'] + 2 * dm.y['yb'] <= 36)\n",
    "    dm.c14 = Constraint(expr = dm.y['ya'] + dm.y['yb'] - beta1 * x1 - beta2 * x2  \n",
    "                       <= beta0+v_epsilon[i])\n",
    "#     dm.c21 = Constraint(expr = dm.x['x1'] + dm.x['x2'] <= 200)\n",
    "#     dm.c22 = Constraint(expr = dm.x['x1'] - 0.5 * dm.x['x2'] >= 0)\n",
    "\n",
    "#     dm.c31 = Constraint(expr = dm.x['x1'] >= min(X_t['TV'].to_list()))\n",
    "#     dm.c32 = Constraint(expr = dm.x['x1'] <= max(X_t['TV'].to_list()))\n",
    "#     dm.c33 = Constraint(expr = dm.x['x2'] >= min(X_t['Radio'].to_list()))\n",
    "#     dm.c34 = Constraint(expr = dm.x['x2'] <= max(X_t['Radio'].to_list()))\n",
    "\n",
    "    results = opt.solve(dm)\n",
    "    d_validation_list.append(dm.obj.expr())"
   ]
  },
  {
   "cell_type": "code",
   "execution_count": 18,
   "metadata": {},
   "outputs": [
    {
     "data": {
      "text/plain": [
       "[40.77954111658245,\n",
       " 47.155141116582456,\n",
       " 41.57004111658246,\n",
       " 48.16914111658245,\n",
       " 48.16914111658245]"
      ]
     },
     "execution_count": 18,
     "metadata": {},
     "output_type": "execute_result"
    }
   ],
   "source": [
    "d_validation_list[:5]"
   ]
  },
  {
   "cell_type": "code",
   "execution_count": 19,
   "metadata": {},
   "outputs": [
    {
     "name": "stdout",
     "output_type": "stream",
     "text": [
      "(45.568979999842675, 46.57598623332223)\n"
     ]
    }
   ],
   "source": [
    "d_ci = st.t.interval(0.95, len(d_validation_list)-1, loc=np.mean(d_validation_list),\n",
    "              scale=st.sem(d_validation_list))\n",
    "print(d_ci)"
   ]
  },
  {
   "cell_type": "markdown",
   "metadata": {},
   "source": [
    "### 2. SP with Empirical Additive Errors"
   ]
  },
  {
   "cell_type": "code",
   "execution_count": 30,
   "metadata": {},
   "outputs": [
    {
     "data": {
      "text/plain": [
       "0.2273484491479199"
      ]
     },
     "execution_count": 30,
     "metadata": {},
     "output_type": "execute_result"
    }
   ],
   "source": [
    "beta2"
   ]
  },
  {
   "cell_type": "code",
   "execution_count": 26,
   "metadata": {},
   "outputs": [
    {
     "name": "stdout",
     "output_type": "stream",
     "text": [
      "WARNING: DEPRECATED: 'PySP_ConstraintStageAnnotation' is no longer recognized\n",
      "    (constraint stages are automatically inferred). It will be removed in the\n",
      "    future. Please update your model file.\n",
      "WARNING: DEPRECATED: 'PySP_StochasticRHSAnnotation' has been renamed to\n",
      "    'StochasticConstraintBoundsAnnotation'. Please update your model file.\n"
     ]
    }
   ],
   "source": [
    "# ad: Annotated with location of stochastic rhs entries\n",
    "#       for use with pysp2smps conversion tool.\n",
    "\n",
    "import itertools\n",
    "import random\n",
    "\n",
    "from pyomo.core import *\n",
    "from pyomo.pysp.annotations import (PySP_ConstraintStageAnnotation,\n",
    "                                    PySP_StochasticRHSAnnotation)\n",
    "# Define the probability table for the stochastic parameters\n",
    "i=0\n",
    "d1_rhs_table = [3.9323, 2.6324, -3.1408, -0.3789, 3.7175, -0.7154, -0.0245, 2.5941, -0.0305, -0.3112,\n",
    "                -2.01, 2.7088, -0.4833, -1.6373, -3.0267, 1.3714, -1.3194, 10.6709, -1.9522, 1.2065,\n",
    "                0.2786, -0.3919, -2.7767, -0.2428, -1.8458, -0.4796, 0.1375, -0.6534, -0.9684, -1.7311,       \n",
    "                -2.2169, 0.9958, -2.405, 2.6091, -1.6641, 1.167, 4.8966, 2.3375, -1.0663, -0.6731,\n",
    "                -1.8048, 2.8722, -0.9826, 3.1187, -1.295, -2.0326, 0.1602, -0.8889, -0.3146, -0.3717,\n",
    "                -2.4787, -0.0625, -2.6977, 1.2482, -1.7434, -1.1329, 3.3738, -1.6965, -0.2341, 3.3963,\n",
    "                2.048, 0.0905, 1.1836, 0.4437, -2.9092, -1.0815, -2.6525, -3.1664, 2.3964, -0.5076,\n",
    "                1.2734, -1.7652, -0.9546, -1.2779, -1.7421, -1.0183, -0.4392, 1.0994, -0.0678, 1.4886,\n",
    "                -1.1482, -0.0366, 0.1029, -1.4013, 2.4265, -0.8231, 0.0363, 4.9604, 4.2461, 1.3526,\n",
    "                -2.0547, -2.0218, -1.4739, -1.495, -1.509, -0.5191, -0.0872, 1.9653, -1.6092, 1.1035]\n",
    "\n",
    "num_scenarios = len(d1_rhs_table)\n",
    "scenario_data = dict(('Scenario'+str(i), (d1val))\n",
    "                      for i, (d1val) in\n",
    "                     enumerate(d1_rhs_table, 1))\n",
    "\n",
    "model = ConcreteModel()\n",
    "\n",
    "model.constraint_stage = PySP_ConstraintStageAnnotation()\n",
    "model.stoch_rhs = PySP_StochasticRHSAnnotation()\n",
    "\n",
    "# use mutable parameters so that the right-hand-side can be updated for each scenario\n",
    "model.d1_rhs = Param(mutable=True, initialize=0.0)\n",
    "\n",
    "# first-stage variables\n",
    "model.x1 = Var(bounds=(0.7,296.4))\n",
    "model.x2 = Var(bounds=(1.3,49.4))\n",
    "\n",
    "# second-stage variables\n",
    "model.y1 = Var(within=NonNegativeReals)\n",
    "model.y2 = Var(within=NonNegativeReals)\n",
    "\n",
    "\n",
    "# stage-cost expressions\n",
    "model.FirstStageCost = \\\n",
    "    Expression(initialize=(0.1*model.x1+0.5*model.x2))\n",
    "model.SecondStageCost = \\\n",
    "    Expression(initialize=(-3*model.y1-5*model.y2))\n",
    "\n",
    "model.s1 = Constraint(expr= model.x1 - 0.5*model.x2 >= 0)\n",
    "model.constraint_stage.declare(model.s1, 1)\n",
    "\n",
    "model.s2 = Constraint(expr= model.x1 + model.x2 <= 200)\n",
    "model.constraint_stage.declare(model.s2, 1)\n",
    "\n",
    "model.s4 = Constraint(expr= model.y1 <= 8)\n",
    "model.constraint_stage.declare(model.s4, 2)\n",
    "\n",
    "model.s5 = Constraint(expr= 2*model.y2 <=24)\n",
    "model.constraint_stage.declare(model.s5, 2)\n",
    "\n",
    "model.s6 = Constraint(expr= 3*model.y1 + 2*model.y2 <= 36)\n",
    "model.constraint_stage.declare(model.s6, 2)\n",
    "\n",
    "# one constraint with stochastic right-hand-sides\n",
    "model.d1 = Constraint(expr = 4.074597924665657 + 0.05119161049901013*model.x1\\\n",
    "                      + 0.2273484491479199*model.x2 - model.y1 - model.y2 >=model.d1_rhs)\n",
    "model.constraint_stage.declare(model.d1, 2)\n",
    "model.stoch_rhs.declare(model.d1)\n",
    "\n",
    "\n",
    "model.obj = Objective(expr=model.FirstStageCost + model.SecondStageCost + 200)\n",
    "# To prevent negative values for minimization problem.\n",
    "\n",
    "def pysp_scenario_tree_model_callback():\n",
    "    from pyomo.pysp.scenariotree.tree_structure_model import \\\n",
    "        CreateConcreteTwoStageScenarioTreeModel\n",
    "\n",
    "    st_model = CreateConcreteTwoStageScenarioTreeModel(num_scenarios)\n",
    "\n",
    "    first_stage = st_model.Stages.first()\n",
    "    second_stage = st_model.Stages.last()\n",
    "\n",
    "    # First Stage\n",
    "    st_model.StageCost[first_stage] = 'FirstStageCost'\n",
    "    st_model.StageVariables[first_stage].add('x1')\n",
    "    st_model.StageVariables[first_stage].add('x2')\n",
    "\n",
    "    # Second Stage\n",
    "    st_model.StageCost[second_stage] = 'SecondStageCost'\n",
    "    st_model.StageVariables[second_stage].add('y1')\n",
    "    st_model.StageVariables[second_stage].add('y2')\n",
    "\n",
    "    return st_model\n",
    "\n",
    "def pysp_instance_creation_callback(scenario_name, node_names):\n",
    "\n",
    "    #\n",
    "    # Clone a new instance and update the stochastic\n",
    "    # parameters from the sampled scenario\n",
    "    #\n",
    "    instance = model.clone()\n",
    "\n",
    "    d1_rhs_val = scenario_data[scenario_name]\n",
    "    instance.d1_rhs.value = d1_rhs_val\n",
    "\n",
    "    return instance"
   ]
  },
  {
   "cell_type": "code",
   "execution_count": 31,
   "metadata": {},
   "outputs": [
    {
     "name": "stdout",
     "output_type": "stream",
     "text": [
      "/anaconda3/envs/yulenv/lib/python3.6/runpy.py:125: RuntimeWarning: 'pyomo.pysp.convert.smps' found in sys.modules after import of package 'pyomo.pysp.convert', but prior to execution of 'pyomo.pysp.convert.smps'; this may result in unpredictable behaviour\n",
      "  warn(RuntimeWarning(msg))\n",
      "WARNING: DEPRECATED: 'PySP_ConstraintStageAnnotation' is no longer recognized\n",
      "    (constraint stages are automatically inferred). It will be removed in the\n",
      "    future. Please update your model file.\n",
      "WARNING: DEPRECATED: 'PySP_StochasticRHSAnnotation' has been renamed to\n",
      "    'StochasticConstraintBoundsAnnotation'. Please update your model file.\n",
      "\n",
      "Total execution time=5.00 seconds\n"
     ]
    }
   ],
   "source": [
    "!python -m pyomo.pysp.convert.smps -m /Users/yul/Desktop/EAEmodel.py --basename EAE \\--output-directory /Users/yul/Desktop/EAE --symbolic-solver-labels"
   ]
  },
  {
   "cell_type": "markdown",
   "metadata": {},
   "source": [
    "> The objective is 1.540009e+02-200 <br/>  x1 = 1.983564e+02 <br/>  x2 = 1.643590e+00"
   ]
  },
  {
   "cell_type": "markdown",
   "metadata": {},
   "source": [
    "#### 2-1. Train data Validate"
   ]
  },
  {
   "cell_type": "code",
   "execution_count": 32,
   "metadata": {},
   "outputs": [],
   "source": [
    "s1_validation_list = []\n",
    "\n",
    "x1 = 1.983564e+02 \n",
    "x2 = 1.643590e+00\n",
    "\n",
    "for i in range(len(t_epsilon)):\n",
    "    # Create the model\n",
    "    dm = ConcreteModel()\n",
    "    opt = SolverFactory('gurobi_ampl')\n",
    "    dm.dual = Suffix(direction=Suffix.IMPORT)\n",
    "\n",
    "    # Define decision Variables\n",
    "#     X = ['x1','x2']\n",
    "    Y = ['ya','yb']\n",
    "\n",
    "#     dm.x = Var(X,domain=NonNegativeReals)\n",
    "    dm.y = Var(Y,domain=NonNegativeReals)\n",
    "\n",
    "    # Define Objective\n",
    "    dm.obj = Objective(expr = -0.1 * x1 -0.5 * x2 + 3 * dm.y['ya'] + 5 * dm.y['yb'], sense=maximize)\n",
    "    # Define Constraints\n",
    "    dm.c11 = Constraint(expr = dm.y['ya'] <= 8)\n",
    "    dm.c12 = Constraint(expr = 2 * dm.y['yb'] <= 24)\n",
    "    dm.c13 = Constraint(expr = 3 * dm.y['ya'] + 2 * dm.y['yb'] <= 36)\n",
    "    dm.c14 = Constraint(expr = dm.y['ya'] + dm.y['yb'] - beta1 * x1 - beta2 * x2  \n",
    "                       <= beta0+t_epsilon[i])\n",
    "#     dm.c21 = Constraint(expr = dm.x['x1'] + dm.x['x2'] <= 200)\n",
    "#     dm.c22 = Constraint(expr = dm.x['x1'] - 0.5 * dm.x['x2'] >= 0)\n",
    "\n",
    "#     dm.c31 = Constraint(expr = dm.x['x1'] >= min(X_t['TV'].to_list()))\n",
    "#     dm.c32 = Constraint(expr = dm.x['x1'] <= max(X_t['TV'].to_list()))\n",
    "#     dm.c33 = Constraint(expr = dm.x['x2'] >= min(X_t['Radio'].to_list()))\n",
    "#     dm.c34 = Constraint(expr = dm.x['x2'] <= max(X_t['Radio'].to_list()))\n",
    "\n",
    "    results = opt.solve(dm)\n",
    "    s1_validation_list.append(dm.obj.expr())"
   ]
  },
  {
   "cell_type": "markdown",
   "metadata": {},
   "source": [
    "#### 2-2 Validation data validate"
   ]
  },
  {
   "cell_type": "code",
   "execution_count": 33,
   "metadata": {},
   "outputs": [],
   "source": [
    "s2_validation_list = []\n",
    "\n",
    "x1 = 1.983564e+02 \n",
    "x2 = 1.643590e+00\n",
    "\n",
    "for i in range(len(v_epsilon)):\n",
    "    # Create the model\n",
    "    dm = ConcreteModel()\n",
    "    opt = SolverFactory('gurobi_ampl')\n",
    "    dm.dual = Suffix(direction=Suffix.IMPORT)\n",
    "\n",
    "    # Define decision Variables\n",
    "#     X = ['x1','x2']\n",
    "    Y = ['ya','yb']\n",
    "\n",
    "#     dm.x = Var(X,domain=NonNegativeReals)\n",
    "    dm.y = Var(Y,domain=NonNegativeReals)\n",
    "\n",
    "    # Define Objective\n",
    "    dm.obj = Objective(expr = -0.1 * x1 -0.5 * x2 + 3 * dm.y['ya'] + 5 * dm.y['yb'], sense=maximize)\n",
    "    # Define Constraints\n",
    "    dm.c11 = Constraint(expr = dm.y['ya'] <= 8)\n",
    "    dm.c12 = Constraint(expr = 2 * dm.y['yb'] <= 24)\n",
    "    dm.c13 = Constraint(expr = 3 * dm.y['ya'] + 2 * dm.y['yb'] <= 36)\n",
    "    dm.c14 = Constraint(expr = dm.y['ya'] + dm.y['yb'] - beta1 * x1 - beta2 * x2  \n",
    "                       <= beta0+v_epsilon[i])\n",
    "#     dm.c21 = Constraint(expr = dm.x['x1'] + dm.x['x2'] <= 200)\n",
    "#     dm.c22 = Constraint(expr = dm.x['x1'] - 0.5 * dm.x['x2'] >= 0)\n",
    "\n",
    "#     dm.c31 = Constraint(expr = dm.x['x1'] >= min(X_t['TV'].to_list()))\n",
    "#     dm.c32 = Constraint(expr = dm.x['x1'] <= max(X_t['TV'].to_list()))\n",
    "#     dm.c33 = Constraint(expr = dm.x['x2'] >= min(X_t['Radio'].to_list()))\n",
    "#     dm.c34 = Constraint(expr = dm.x['x2'] <= max(X_t['Radio'].to_list()))\n",
    "\n",
    "    results = opt.solve(dm)\n",
    "    s2_validation_list.append(dm.obj.expr())"
   ]
  },
  {
   "cell_type": "code",
   "execution_count": 34,
   "metadata": {},
   "outputs": [
    {
     "name": "stdout",
     "output_type": "stream",
     "text": [
      "Kruskal Wallis H-test test:\n",
      "H-statistic: 0.3128535655961006\n",
      "P-Value: 0.5759343796987677\n",
      "Accept NULL hypothesis - No significant difference between groups.\n"
     ]
    }
   ],
   "source": [
    "print(\"Kruskal Wallis H-test test:\")\n",
    "\n",
    "H, pval = st.mstats.kruskalwallis(s1_validation_list,s2_validation_list)\n",
    "\n",
    "print(\"H-statistic:\", H)\n",
    "print(\"P-Value:\", pval)\n",
    "\n",
    "if pval < 0.05:\n",
    "    print(\"Reject NULL hypothesis - Significant differences exist between groups.\")\n",
    "if pval > 0.05:\n",
    "    print(\"Accept NULL hypothesis - No significant difference between groups.\")"
   ]
  }
 ],
 "metadata": {
  "kernelspec": {
   "display_name": "Python 3",
   "language": "python",
   "name": "python3"
  },
  "language_info": {
   "codemirror_mode": {
    "name": "ipython",
    "version": 3
   },
   "file_extension": ".py",
   "mimetype": "text/x-python",
   "name": "python",
   "nbconvert_exporter": "python",
   "pygments_lexer": "ipython3",
   "version": "3.6.8"
  }
 },
 "nbformat": 4,
 "nbformat_minor": 2
}
