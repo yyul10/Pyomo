{
 "cells": [
  {
   "cell_type": "code",
   "execution_count": 3,
   "metadata": {},
   "outputs": [],
   "source": [
    "import pyomo\n",
    "from pyomo.environ import *"
   ]
  },
  {
   "cell_type": "code",
   "execution_count": null,
   "metadata": {},
   "outputs": [],
   "source": [
    ""
   ]
  },
  {
   "cell_type": "code",
   "execution_count": 4,
   "metadata": {},
   "outputs": [],
   "source": [
    "from pyomo.core import *\n",
    "#from pyomo.pysp.annotations import *\n",
    "#import pyomo.pysp.convert\n",
    "from pyomo.opt import SolverFactory"
   ]
  },
  {
   "cell_type": "code",
   "execution_count": 5,
   "metadata": {},
   "outputs": [],
   "source": [
    "import cplex\n",
    "import itertools"
   ]
  },
  {
   "cell_type": "code",
   "execution_count": 6,
   "metadata": {},
   "outputs": [
    {
     "data": {
      "text/plain": [
       "{'Problem': [{'Name': 'tmpspu7s1lq', 'Lower bound': 0.6666666666666666, 'Upper bound': 0.6666666666666666, 'Number of objectives': 1, 'Number of constraints': 2, 'Number of variables': 3, 'Number of nonzeros': 3, 'Sense': 'minimize'}], 'Solver': [{'Status': 'ok', 'User time': 0.01, 'Termination condition': 'optimal', 'Termination message': 'Dual simplex - Optimal\\\\x3a Objective = 6.6666666667e-01', 'Error rc': 0, 'Time': 0.06987524032592773}], 'Solution': [OrderedDict([('number of solutions', 0), ('number of solutions displayed', 0)])]}"
      ]
     },
     "execution_count": 6,
     "output_type": "execute_result",
     "metadata": {}
    }
   ],
   "source": [
    "# Ex 1\n",
    "# Concrete Model\n",
    "\n",
    "model = ConcreteModel()\n",
    "\n",
    "model.x = Var([1,2], domain=NonNegativeReals)\n",
    "\n",
    "model.OBJ = Objective(expr = 2*model.x[1] + 3*model.x[2])\n",
    "\n",
    "model.Constraint1 = Constraint(expr = 3*model.x[1] + 4*model.x[2] >= 1)\n",
    "\n",
    "opt = SolverFactory('cplex',executable='/Applications/CPLEX_Studio128/cplex/bin/x86-64_osx/cplex')\n",
    "opt.solve(model)"
   ]
  },
  {
   "cell_type": "code",
   "execution_count": 10,
   "metadata": {},
   "outputs": [
    {
     "name": "stdout",
     "output_type": "stream",
     "text": [
      "Model unknown\n",
      "\n",
      "  Variables:\n",
      "    x : Size=2, Index=x_index\n",
      "        Key : Lower : Value              : Upper : Fixed : Stale : Domain\n",
      "          1 :     0 : 0.3333333333333333 :  None : False : False : NonNegativeReals\n",
      "          2 :     0 :                0.0 :  None : False : False : NonNegativeReals\n",
      "\n",
      "  Objectives:\n",
      "    OBJ : Size=1, Index=None, Active=True\n",
      "        Key  : Active : Value\n",
      "        None :   True : 0.6666666666666666\n",
      "\n",
      "  Constraints:\n",
      "    Constraint1 : Size=1\n",
      "        Key  : Lower : Body : Upper\n",
      "        None :   1.0 :  1.0 :  None\n"
     ]
    }
   ],
   "source": [
    "model.display()"
   ]
  },
  {
   "cell_type": "code",
   "execution_count": 28,
   "metadata": {},
   "outputs": [
    {
     "data": {
      "text/plain": [
       "{'Problem': [{'Name': 'tmpk54ufg6v', 'Lower bound': 0.6666666666666666, 'Upper bound': 0.6666666666666666, 'Number of objectives': 1, 'Number of constraints': 2, 'Number of variables': 3, 'Number of nonzeros': 3, 'Sense': 'minimize'}], 'Solver': [{'Status': 'ok', 'User time': 0.01, 'Termination condition': 'optimal', 'Termination message': 'Dual simplex - Optimal\\\\x3a Objective = 6.6666666667e-01', 'Error rc': 0, 'Time': 0.07142996788024902}], 'Solution': [OrderedDict([('number of solutions', 0), ('number of solutions displayed', 0)])]}"
      ]
     },
     "execution_count": 28,
     "output_type": "execute_result",
     "metadata": {}
    }
   ],
   "source": [
    "# Ex 2\n",
    "# Abstract Model\n",
    "\n",
    "#from __future__ import division\n",
    "#import pyomo\n",
    "#from pyomo.environ import *\n",
    "\n",
    "model = AbstractModel()\n",
    "\n",
    "model.m = Param(within=NonNegativeIntegers)\n",
    "model.n = Param(within=NonNegativeIntegers)\n",
    "\n",
    "model.I = RangeSet(1, model.m)\n",
    "model.J = RangeSet(1, model.n)\n",
    "\n",
    "model.a = Param(model.I, model.J)\n",
    "model.b = Param(model.I)\n",
    "model.c = Param(model.J)\n",
    "\n",
    "# the next line declares a variable indexed by the set J\n",
    "model.x = Var(model.J, domain=NonNegativeReals)\n",
    "\n",
    "def obj_expression(model):\n",
    "    return summation(model.c, model.x)\n",
    "\n",
    "model.OBJ = Objective(rule=obj_expression)\n",
    "\n",
    "def ax_constraint_rule(model, i):\n",
    "    # return the expression for the constraint for i\n",
    "    return sum(model.a[i,j] * model.x[j] for j in model.J) >= model.b[i]\n",
    "\n",
    "# the next line creates one constraint for each member of the set model.I\n",
    "model.AxbConstraint = Constraint(model.I, rule=ax_constraint_rule)\n",
    "\n",
    "\n",
    "# one way to input the data in AMPL format\n",
    "# for indexed parameters, the indexes are given before the value\n",
    "\n",
    "data= {None: {\n",
    "    'm':{None:1},\n",
    "    'n':{None:2},\n",
    "    'a': {(1,1):3, (1,2):4},\n",
    "    'c': {1:2, 2:3},\n",
    "    'b': {1: 1} }}\n",
    "    \n",
    "instance = model.create_instance(data)\n",
    "opt = SolverFactory('cplex', executable='/Applications/CPLEX_Studio1262/cplex/bin/x86-64_osx/cplex')\n",
    "opt.solve(instance)"
   ]
  },
  {
   "cell_type": "code",
   "execution_count": null,
   "metadata": {},
   "outputs": [],
   "source": [
    ""
   ]
  },
  {
   "cell_type": "code",
   "execution_count": 29,
   "metadata": {},
   "outputs": [
    {
     "name": "stdout",
     "output_type": "stream",
     "text": [
      "Model unknown\n",
      "\n",
      "  Variables:\n",
      "    x : Size=2, Index=J\n",
      "        Key : Lower : Value              : Upper : Fixed : Stale : Domain\n",
      "          1 :     0 : 0.3333333333333333 :  None : False : False : NonNegativeReals\n",
      "          2 :     0 :                0.0 :  None : False : False : NonNegativeReals\n",
      "\n",
      "  Objectives:\n",
      "    OBJ : Size=1, Index=None, Active=True\n",
      "        Key  : Active : Value\n",
      "        None :   True : 0.6666666666666666\n",
      "\n",
      "  Constraints:\n",
      "    AxbConstraint : Size=1\n",
      "        Key : Lower : Body : Upper\n",
      "          1 :   1.0 :  1.0 :  None\n"
     ]
    }
   ],
   "source": [
    "instance.display()"
   ]
  },
  {
   "cell_type": "code",
   "execution_count": null,
   "metadata": {},
   "outputs": [],
   "source": [
    ""
   ]
  },
  {
   "cell_type": "code",
   "execution_count": null,
   "metadata": {},
   "outputs": [],
   "source": [
    ""
   ]
  },
  {
   "cell_type": "code",
   "execution_count": 14,
   "metadata": {},
   "outputs": [],
   "source": [
    "#import pyomo\n",
    "import pyomo.environ as pyo\n",
    "#from pyomo.opt import SolverFactory"
   ]
  },
  {
   "cell_type": "code",
   "execution_count": null,
   "metadata": {},
   "outputs": [],
   "source": [
    ""
   ]
  },
  {
   "cell_type": "code",
   "execution_count": 15,
   "metadata": {},
   "outputs": [
    {
     "name": "stdout",
     "output_type": "stream",
     "text": [
      "WARNING: Empty constraint block written in LP format - solver may error\n",
      "Model unknown\n",
      "\n",
      "  Variables:\n",
      "    x : Size=4, Index=x_index\n",
      "        Key : Lower : Value : Upper : Fixed : Stale : Domain\n",
      "          1 :     0 :   0.0 :     1 : False : False : Binary\n",
      "          2 :     0 :   0.0 :     1 : False : False : Binary\n",
      "          3 :     0 :   0.0 :     1 : False : False : Binary\n",
      "          4 :     0 :   0.0 :     1 : False : False : Binary\n",
      "\n",
      "  Objectives:\n",
      "    o : Size=1, Index=None, Active=True\n",
      "        Key  : Active : Value\n",
      "        None :   True :   0.0\n",
      "\n",
      "  Constraints:\n",
      "    c : Size=0\n",
      "        Key : Lower : Body : Upper\n",
      "\n",
      "===== iteration 0\n",
      "Model unknown\n",
      "\n",
      "  Variables:\n",
      "    x : Size=4, Index=x_index\n",
      "        Key : Lower : Value : Upper : Fixed : Stale : Domain\n",
      "          1 :     0 :   1.0 :     1 : False : False : Binary\n",
      "          2 :     0 :   0.0 :     1 : False : False : Binary\n",
      "          3 :     0 :   0.0 :     1 : False : False : Binary\n",
      "          4 :     0 :   0.0 :     1 : False : False : Binary\n",
      "\n",
      "  Objectives:\n",
      "    o : Size=1, Index=None, Active=True\n",
      "        Key  : Active : Value\n",
      "        None :   True :   1.0\n",
      "\n",
      "  Constraints:\n",
      "    c : Size=1\n",
      "        Key : Lower : Body : Upper\n",
      "          1 :   1.0 :  1.0 :  None\n",
      "\n",
      "===== iteration 1\n",
      "Model unknown\n",
      "\n",
      "  Variables:\n",
      "    x : Size=4, Index=x_index\n",
      "        Key : Lower : Value : Upper : Fixed : Stale : Domain\n",
      "          1 :     0 :   0.0 :     1 : False : False : Binary\n",
      "          2 :     0 :   1.0 :     1 : False : False : Binary\n",
      "          3 :     0 :   0.0 :     1 : False : False : Binary\n",
      "          4 :     0 :   0.0 :     1 : False : False : Binary\n",
      "\n",
      "  Objectives:\n",
      "    o : Size=1, Index=None, Active=True\n",
      "        Key  : Active : Value\n",
      "        None :   True :   1.0\n",
      "\n",
      "  Constraints:\n",
      "    c : Size=2\n",
      "        Key : Lower : Body : Upper\n",
      "          1 :   1.0 :  1.0 :  None\n",
      "          2 :   1.0 :  2.0 :  None\n",
      "\n",
      "===== iteration 2\n",
      "Model unknown\n",
      "\n",
      "  Variables:\n",
      "    x : Size=4, Index=x_index\n",
      "        Key : Lower : Value : Upper : Fixed : Stale : Domain\n",
      "          1 :     0 :   0.0 :     1 : False : False : Binary\n",
      "          2 :     0 :   0.0 :     1 : False : False : Binary\n",
      "          3 :     0 :   1.0 :     1 : False : False : Binary\n",
      "          4 :     0 :   0.0 :     1 : False : False : Binary\n",
      "\n",
      "  Objectives:\n",
      "    o : Size=1, Index=None, Active=True\n",
      "        Key  : Active : Value\n",
      "        None :   True :   1.0\n",
      "\n",
      "  Constraints:\n",
      "    c : Size=3\n",
      "        Key : Lower : Body : Upper\n",
      "          1 :   1.0 :  1.0 :  None\n",
      "          2 :   1.0 :  2.0 :  None\n",
      "          3 :   1.0 :  2.0 :  None\n",
      "\n",
      "===== iteration 3\n",
      "Model unknown\n",
      "\n",
      "  Variables:\n",
      "    x : Size=4, Index=x_index\n",
      "        Key : Lower : Value : Upper : Fixed : Stale : Domain\n",
      "          1 :     0 :   0.0 :     1 : False : False : Binary\n",
      "          2 :     0 :   0.0 :     1 : False : False : Binary\n",
      "          3 :     0 :   0.0 :     1 : False : False : Binary\n",
      "          4 :     0 :   1.0 :     1 : False : False : Binary\n",
      "\n",
      "  Objectives:\n",
      "    o : Size=1, Index=None, Active=True\n",
      "        Key  : Active : Value\n",
      "        None :   True :   1.0\n",
      "\n",
      "  Constraints:\n",
      "    c : Size=4\n",
      "        Key : Lower : Body : Upper\n",
      "          1 :   1.0 :  1.0 :  None\n",
      "          2 :   1.0 :  2.0 :  None\n",
      "          3 :   1.0 :  2.0 :  None\n",
      "          4 :   1.0 :  2.0 :  None\n",
      "\n",
      "===== iteration 4\n",
      "Model unknown\n",
      "\n",
      "  Variables:\n",
      "    x : Size=4, Index=x_index\n",
      "        Key : Lower : Value : Upper : Fixed : Stale : Domain\n",
      "          1 :     0 :   1.0 :     1 : False : False : Binary\n",
      "          2 :     0 :   1.0 :     1 : False : False : Binary\n",
      "          3 :     0 :   0.0 :     1 : False : False : Binary\n",
      "          4 :     0 :   0.0 :     1 : False : False : Binary\n",
      "\n",
      "  Objectives:\n",
      "    o : Size=1, Index=None, Active=True\n",
      "        Key  : Active : Value\n",
      "        None :   True :   2.0\n",
      "\n",
      "  Constraints:\n",
      "    c : Size=5\n",
      "        Key : Lower : Body : Upper\n",
      "          1 :   1.0 :  2.0 :  None\n",
      "          2 :   1.0 :  1.0 :  None\n",
      "          3 :   1.0 :  1.0 :  None\n",
      "          4 :   1.0 :  3.0 :  None\n",
      "          5 :   1.0 :  3.0 :  None\n"
     ]
    }
   ],
   "source": [
    "# iterative1.py\n",
    "import pyomo.environ as pyo\n",
    "from pyomo.opt import SolverFactory\n",
    "\n",
    "# Create a solver\n",
    "opt = pyo.SolverFactory('glpk')\n",
    "\n",
    "#\n",
    "# A simple model with binary variables and\n",
    "# an empty constraint list.\n",
    "#\n",
    "model = pyo.AbstractModel()\n",
    "model.n = pyo.Param(default=4)\n",
    "model.x = pyo.Var(pyo.RangeSet(model.n), within=pyo.Binary)\n",
    "def o_rule(model):\n",
    "    return pyo.summation(model.x)\n",
    "model.o = pyo.Objective(rule=o_rule)\n",
    "model.c = pyo.ConstraintList()\n",
    "\n",
    "# Create a model instance and optimize\n",
    "instance = model.create_instance()\n",
    "results = opt.solve(instance)\n",
    "instance.display()\n",
    "\n",
    "# Iterate to eliminate the previously found solution\n",
    "for i in range(5):\n",
    "    expr = 0\n",
    "    for j in instance.x:\n",
    "        if pyo.value(instance.x[j]) == 0:\n",
    "            expr += instance.x[j]\n",
    "        else:\n",
    "            expr += (1-instance.x[j])\n",
    "    instance.c.add( expr >= 1 )\n",
    "    results = opt.solve(instance)\n",
    "    print (\"\\n===== iteration\",i)\n",
    "    instance.display()"
   ]
  },
  {
   "cell_type": "code",
   "execution_count": null,
   "metadata": {},
   "outputs": [],
   "source": [
    ""
   ]
  }
 ],
 "metadata": {
  "kernelspec": {
   "display_name": "Python 3",
   "language": "python",
   "name": "python3"
  },
  "language_info": {
   "codemirror_mode": {
    "name": "ipython",
    "version": 3.0
   },
   "file_extension": ".py",
   "mimetype": "text/x-python",
   "name": "python",
   "nbconvert_exporter": "python",
   "pygments_lexer": "ipython3",
   "version": "3.6.4"
  }
 },
 "nbformat": 4,
 "nbformat_minor": 2
}