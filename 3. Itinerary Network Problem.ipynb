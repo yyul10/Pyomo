{
 "cells": [
  {
   "cell_type": "markdown",
   "metadata": {
    "colab_type": "text",
    "id": "wFV0b5y77RL_"
   },
   "source": [
    "# <center>Itinerary Network Problem</center> #"
   ]
  },
  {
   "cell_type": "code",
   "execution_count": 1,
   "metadata": {
    "colab": {
     "base_uri": "https://localhost:8080/",
     "height": 292
    },
    "colab_type": "code",
    "executionInfo": {
     "elapsed": 8642,
     "status": "ok",
     "timestamp": 1551387047670,
     "user": {
      "displayName": "Yul W",
      "photoUrl": "https://lh3.googleusercontent.com/-E4TCWR8Mi3U/AAAAAAAAAAI/AAAAAAAAZKg/J3tmOogRbwE/s64/photo.jpg",
      "userId": "17622316229640711883"
     },
     "user_tz": 480
    },
    "id": "azSasSyj7Ofc",
    "outputId": "edb32fde-289e-4bab-8835-502ca709b221",
    "scrolled": true
   },
   "outputs": [
    {
     "name": "stdout",
     "output_type": "stream",
     "text": [
      "Collecting pyomo\n",
      "\u001b[?25l  Downloading https://files.pythonhosted.org/packages/e4/df/3f4a54d494d429102c035308168bfd71aa0fac31832385ab356cb44560df/Pyomo-5.6.1-py3-none-any.whl (2.1MB)\n",
      "\u001b[K    100% |████████████████████████████████| 2.1MB 14.5MB/s \n",
      "\u001b[?25hCollecting appdirs (from pyomo)\n",
      "  Downloading https://files.pythonhosted.org/packages/56/eb/810e700ed1349edde4cbdc1b2a21e28cdf115f9faf263f6bbf8447c1abf3/appdirs-1.4.3-py2.py3-none-any.whl\n",
      "Collecting ply (from pyomo)\n",
      "\u001b[?25l  Downloading https://files.pythonhosted.org/packages/a3/58/35da89ee790598a0700ea49b2a66594140f44dec458c07e8e3d4979137fc/ply-3.11-py2.py3-none-any.whl (49kB)\n",
      "\u001b[K    100% |████████████████████████████████| 51kB 22.6MB/s \n",
      "\u001b[?25hRequirement already satisfied: six>=1.4 in /usr/local/lib/python3.6/dist-packages (from pyomo) (1.11.0)\n",
      "Collecting PyUtilib>=5.6.5 (from pyomo)\n",
      "\u001b[?25l  Downloading https://files.pythonhosted.org/packages/43/04/9174c992ab7b5d5c9c29c0dce3ffbe2440dcfaf054a83b536f8253ce8384/PyUtilib-5.6.5-py2.py3-none-any.whl (250kB)\n",
      "\u001b[K    100% |████████████████████████████████| 256kB 32.1MB/s \n",
      "\u001b[?25hRequirement already satisfied: nose in /usr/local/lib/python3.6/dist-packages (from PyUtilib>=5.6.5->pyomo) (1.3.7)\n",
      "Installing collected packages: appdirs, ply, PyUtilib, pyomo\n",
      "Successfully installed PyUtilib-5.6.5 appdirs-1.4.3 ply-3.11 pyomo-5.6.1\n"
     ]
    }
   ],
   "source": [
    "#!pip install pyomo"
   ]
  },
  {
   "cell_type": "code",
   "execution_count": 2,
   "metadata": {
    "colab": {},
    "colab_type": "code",
    "id": "b-E2otZE7cGA"
   },
   "outputs": [],
   "source": [
    "from pyutilib.services import register_executable, registered_executable\n",
    "register_executable(name='glpk')\n",
    "import numpy as np\n",
    "from pyomo.environ import *\n",
    "import pyomo.environ as pyo\n",
    "from pyomo.opt import SolverFactory"
   ]
  },
  {
   "cell_type": "markdown",
   "metadata": {
    "colab_type": "text",
    "id": "fYahH86G3TuQ"
   },
   "source": [
    "## <center> Homework 3 - Deterministic Demand Network Problem  </center> ##\n"
   ]
  },
  {
   "cell_type": "markdown",
   "metadata": {
    "colab_type": "text",
    "id": "cTw5hk5y99T3"
   },
   "source": [
    "### DLP Modeling ###"
   ]
  },
  {
   "cell_type": "code",
   "execution_count": 7,
   "metadata": {
    "colab": {},
    "colab_type": "code",
    "id": "2JfKS4dY75OF"
   },
   "outputs": [
    {
     "name": "stdout",
     "output_type": "stream",
     "text": [
      "1 Set Declarations\n",
      "    x_index : Dim=0, Dimen=1, Size=5, Domain=None, Ordered=False, Bounds=None\n",
      "        ['x1', 'x2', 'x3', 'x4', 'x5']\n",
      "\n",
      "1 Var Declarations\n",
      "    x : Size=5, Index=x_index\n",
      "        Key : Lower : Value : Upper : Fixed : Stale : Domain\n",
      "         x1 :     0 :  None :  None : False :  True : NonNegativeIntegers\n",
      "         x2 :     0 :  None :  None : False :  True : NonNegativeIntegers\n",
      "         x3 :     0 :  None :  None : False :  True : NonNegativeIntegers\n",
      "         x4 :     0 :  None :  None : False :  True : NonNegativeIntegers\n",
      "         x5 :     0 :  None :  None : False :  True : NonNegativeIntegers\n",
      "\n",
      "1 Objective Declarations\n",
      "    obj : Size=1, Index=None, Active=True\n",
      "        Key  : Active : Sense    : Expression\n",
      "        None :   True : maximize : 280*x[x1] + 300*x[x2] + 190*x[x3] + 220*x[x4] + 140*x[x5]\n",
      "\n",
      "11 Constraint Declarations\n",
      "    c1 : Size=1, Index=None, Active=True\n",
      "        Key  : Lower : Body          : Upper : Active\n",
      "        None :  -Inf : x[x2] + x[x4] : 100.0 :   True\n",
      "    c2 : Size=1, Index=None, Active=True\n",
      "        Key  : Lower : Body          : Upper : Active\n",
      "        None :  -Inf : x[x1] + x[x3] : 100.0 :   True\n",
      "    c3 : Size=1, Index=None, Active=True\n",
      "        Key  : Lower : Body                                  : Upper : Active\n",
      "        None :  -Inf : x[x1] + x[x2] + x[x3] + x[x4] + x[x5] : 300.0 :   True\n",
      "    c4 : Size=1, Index=None, Active=True\n",
      "        Key  : Lower : Body          : Upper : Active\n",
      "        None :  -Inf : x[x2] + x[x4] : 100.0 :   True\n",
      "    c5 : Size=1, Index=None, Active=True\n",
      "        Key  : Lower : Body  : Upper : Active\n",
      "        None :  -Inf : x[x5] : 100.0 :   True\n",
      "    c6 : Size=1, Index=None, Active=True\n",
      "        Key  : Lower : Body          : Upper : Active\n",
      "        None :  -Inf : x[x1] + x[x3] : 100.0 :   True\n",
      "    d1 : Size=1, Index=None, Active=True\n",
      "        Key  : Lower : Body  : Upper : Active\n",
      "        None :  -Inf : x[x1] :  50.0 :   True\n",
      "    d2 : Size=1, Index=None, Active=True\n",
      "        Key  : Lower : Body  : Upper : Active\n",
      "        None :  -Inf : x[x2] :  30.0 :   True\n",
      "    d3 : Size=1, Index=None, Active=True\n",
      "        Key  : Lower : Body  : Upper : Active\n",
      "        None :  -Inf : x[x3] : 200.0 :   True\n",
      "    d4 : Size=1, Index=None, Active=True\n",
      "        Key  : Lower : Body  : Upper : Active\n",
      "        None :  -Inf : x[x4] : 100.0 :   True\n",
      "    d5 : Size=1, Index=None, Active=True\n",
      "        Key  : Lower : Body  : Upper : Active\n",
      "        None :  -Inf : x[x5] : 160.0 :   True\n",
      "\n",
      "1 Suffix Declarations\n",
      "    dual : Direction=Suffix.IMPORT, Datatype=Suffix.FLOAT\n",
      "        Key : Value\n",
      "\n",
      "15 Declarations: x_index x obj c1 c2 c3 c4 c5 c6 d1 d2 d3 d4 d5 dual\n"
     ]
    }
   ],
   "source": [
    "model = ConcreteModel()\n",
    "opt = SolverFactory('glpk')\n",
    "\n",
    "X = ['x1','x2','x3','x4','x5']\n",
    "model.x = Var(X,within=NonNegativeIntegers)\n",
    "\n",
    "v = {1:280,2:300,3:190,4:220,5:140}\n",
    "c = [[0,1,1,0,0,1],\n",
    "     [1,0,1,1,0,0],\n",
    "     [0,1,1,0,0,1],\n",
    "     [1,0,1,1,0,0],\n",
    "     [0,0,1,0,1,0]]\n",
    "capa = {1:100,2:100,3:300,4:100,5:100,6:100}\n",
    "d_mean = {1:50,2:30,3:200,4:100,5:160}\n",
    "\n",
    "# Objective \n",
    "model.obj = Objective(expr= model.x['x1']*v[1]+model.x['x2']*v[2]+model.x['x3']*v[3]\n",
    "                      +model.x['x4']*v[4]+model.x['x5']*v[5],sense=maximize)\n",
    "\n",
    "\n",
    "# Capacity Constraint\n",
    "c1 =np.transpose(c)[0]\n",
    "model.c1 = Constraint(expr= model.x['x1']*c1[0]+model.x['x2']*c1[1]+model.x['x3']*c1[2]\n",
    "                      +model.x['x4']*c1[3]+model.x['x5']*c1[4] <= capa[1])\n",
    "c2 =np.transpose(c)[1]\n",
    "model.c2 = Constraint(expr= model.x['x1']*c2[0]+model.x['x2']*c2[1]+model.x['x3']*c2[2]\n",
    "                      +model.x['x4']*c2[3]+model.x['x5']*c2[4] <= capa[2])\n",
    "c3 =np.transpose(c)[2]\n",
    "model.c3 = Constraint(expr= model.x['x1']*c3[0]+model.x['x2']*c3[1]+model.x['x3']*c3[2]\n",
    "                      +model.x['x4']*c3[3]+model.x['x5']*c3[4] <= capa[3])\n",
    "c4 =np.transpose(c)[3]\n",
    "model.c4 = Constraint(expr= model.x['x1']*c4[0]+model.x['x2']*c4[1]+model.x['x3']*c4[2]\n",
    "                      +model.x['x4']*c4[3]+model.x['x5']*c4[4] <= capa[4])\n",
    "c5 =np.transpose(c)[4]\n",
    "model.c5 = Constraint(expr= model.x['x1']*c5[0]+model.x['x2']*c5[1]+model.x['x3']*c5[2]\n",
    "                      +model.x['x4']*c5[3]+model.x['x5']*c5[4] <= capa[5])\n",
    "c6 =np.transpose(c)[5]\n",
    "model.c6 = Constraint(expr= model.x['x1']*c6[0]+model.x['x2']*c6[1]+model.x['x3']*c6[2]\n",
    "                      +model.x['x4']*c6[3]+model.x['x5']*c6[4] <= capa[6])\n",
    "\n",
    "# Remaining Demand Constraint (when D is average D)\n",
    "\n",
    "upper = {'x1':50, 'x2':30, 'x3':200, 'x4':100, 'x5':160}\n",
    "\n",
    "model.d1 = Constraint(expr = model.x['x1'] <= upper['x1']) \n",
    "model.d2 = Constraint(expr = model.x['x2'] <= upper['x2']) \n",
    "model.d3 = Constraint(expr = model.x['x3'] <= upper['x3']) \n",
    "model.d4 = Constraint(expr = model.x['x4'] <= upper['x4']) \n",
    "model.d5 = Constraint(expr = model.x['x5'] <= upper['x5']) \n",
    "\n",
    "model.dual = pyo.Suffix(direction=pyo.Suffix.IMPORT)\n",
    "model.pprint()"
   ]
  },
  {
   "cell_type": "code",
   "execution_count": 8,
   "metadata": {},
   "outputs": [
    {
     "name": "stdout",
     "output_type": "stream",
     "text": [
      "Model unknown\n",
      "\n",
      "  Variables:\n",
      "    x : Size=5, Index=x_index\n",
      "        Key : Lower : Value : Upper : Fixed : Stale : Domain\n",
      "         x1 :     0 :  50.0 :  None : False : False : NonNegativeIntegers\n",
      "         x2 :     0 :  30.0 :  None : False : False : NonNegativeIntegers\n",
      "         x3 :     0 :  50.0 :  None : False : False : NonNegativeIntegers\n",
      "         x4 :     0 :  70.0 :  None : False : False : NonNegativeIntegers\n",
      "         x5 :     0 : 100.0 :  None : False : False : NonNegativeIntegers\n",
      "\n",
      "  Objectives:\n",
      "    obj : Size=1, Index=None, Active=True\n",
      "        Key  : Active : Value\n",
      "        None :   True : 61900.0\n",
      "\n",
      "  Constraints:\n",
      "    c1 : Size=1\n",
      "        Key  : Lower : Body  : Upper\n",
      "        None :  None : 100.0 : 100.0\n",
      "    c2 : Size=1\n",
      "        Key  : Lower : Body  : Upper\n",
      "        None :  None : 100.0 : 100.0\n",
      "    c3 : Size=1\n",
      "        Key  : Lower : Body  : Upper\n",
      "        None :  None : 300.0 : 300.0\n",
      "    c4 : Size=1\n",
      "        Key  : Lower : Body  : Upper\n",
      "        None :  None : 100.0 : 100.0\n",
      "    c5 : Size=1\n",
      "        Key  : Lower : Body  : Upper\n",
      "        None :  None : 100.0 : 100.0\n",
      "    c6 : Size=1\n",
      "        Key  : Lower : Body  : Upper\n",
      "        None :  None : 100.0 : 100.0\n",
      "    d1 : Size=1\n",
      "        Key  : Lower : Body : Upper\n",
      "        None :  None : 50.0 :  50.0\n",
      "    d2 : Size=1\n",
      "        Key  : Lower : Body : Upper\n",
      "        None :  None : 30.0 :  30.0\n",
      "    d3 : Size=1\n",
      "        Key  : Lower : Body : Upper\n",
      "        None :  None : 50.0 : 200.0\n",
      "    d4 : Size=1\n",
      "        Key  : Lower : Body : Upper\n",
      "        None :  None : 70.0 : 100.0\n",
      "    d5 : Size=1\n",
      "        Key  : Lower : Body  : Upper\n",
      "        None :  None : 100.0 : 160.0\n"
     ]
    }
   ],
   "source": [
    "results = opt.solve(model)\n",
    "model.display()\n",
    "# print (\"Duals\")\n",
    "# for c in model.component_objects(pyo.Constraint, active=True):\n",
    "#     print (\"   Constraint\",c)\n",
    "#     for index in c:\n",
    "#         print (\"      \", index, model.dual[c[index]])"
   ]
  }
 ],
 "metadata": {
  "colab": {
   "collapsed_sections": [],
   "name": "Itinerary Network Problem.ipynb",
   "provenance": [],
   "toc_visible": true,
   "version": "0.3.2"
  },
  "kernelspec": {
   "display_name": "Python 3",
   "language": "python",
   "name": "python3"
  },
  "language_info": {
   "codemirror_mode": {
    "name": "ipython",
    "version": 3
   },
   "file_extension": ".py",
   "mimetype": "text/x-python",
   "name": "python",
   "nbconvert_exporter": "python",
   "pygments_lexer": "ipython3",
   "version": "3.6.8"
  }
 },
 "nbformat": 4,
 "nbformat_minor": 1
}
