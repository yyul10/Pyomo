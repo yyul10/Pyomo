{
 "cells": [
  {
   "cell_type": "markdown",
   "metadata": {
    "colab_type": "text",
    "id": "wFV0b5y77RL_"
   },
   "source": [
    "# <center>Itinerary Network Problem</center> #"
   ]
  },
  {
   "cell_type": "code",
   "execution_count": 1,
   "metadata": {
    "colab": {
     "base_uri": "https://localhost:8080/",
     "height": 292
    },
    "colab_type": "code",
    "executionInfo": {
     "elapsed": 8642,
     "status": "ok",
     "timestamp": 1551387047670,
     "user": {
      "displayName": "Yul W",
      "photoUrl": "https://lh3.googleusercontent.com/-E4TCWR8Mi3U/AAAAAAAAAAI/AAAAAAAAZKg/J3tmOogRbwE/s64/photo.jpg",
      "userId": "17622316229640711883"
     },
     "user_tz": 480
    },
    "id": "azSasSyj7Ofc",
    "outputId": "edb32fde-289e-4bab-8835-502ca709b221",
    "scrolled": true
   },
   "outputs": [
    {
     "name": "stdout",
     "output_type": "stream",
     "text": [
      "Collecting pyomo\n",
      "\u001b[?25l  Downloading https://files.pythonhosted.org/packages/e4/df/3f4a54d494d429102c035308168bfd71aa0fac31832385ab356cb44560df/Pyomo-5.6.1-py3-none-any.whl (2.1MB)\n",
      "\u001b[K    100% |████████████████████████████████| 2.1MB 14.5MB/s \n",
      "\u001b[?25hCollecting appdirs (from pyomo)\n",
      "  Downloading https://files.pythonhosted.org/packages/56/eb/810e700ed1349edde4cbdc1b2a21e28cdf115f9faf263f6bbf8447c1abf3/appdirs-1.4.3-py2.py3-none-any.whl\n",
      "Collecting ply (from pyomo)\n",
      "\u001b[?25l  Downloading https://files.pythonhosted.org/packages/a3/58/35da89ee790598a0700ea49b2a66594140f44dec458c07e8e3d4979137fc/ply-3.11-py2.py3-none-any.whl (49kB)\n",
      "\u001b[K    100% |████████████████████████████████| 51kB 22.6MB/s \n",
      "\u001b[?25hRequirement already satisfied: six>=1.4 in /usr/local/lib/python3.6/dist-packages (from pyomo) (1.11.0)\n",
      "Collecting PyUtilib>=5.6.5 (from pyomo)\n",
      "\u001b[?25l  Downloading https://files.pythonhosted.org/packages/43/04/9174c992ab7b5d5c9c29c0dce3ffbe2440dcfaf054a83b536f8253ce8384/PyUtilib-5.6.5-py2.py3-none-any.whl (250kB)\n",
      "\u001b[K    100% |████████████████████████████████| 256kB 32.1MB/s \n",
      "\u001b[?25hRequirement already satisfied: nose in /usr/local/lib/python3.6/dist-packages (from PyUtilib>=5.6.5->pyomo) (1.3.7)\n",
      "Installing collected packages: appdirs, ply, PyUtilib, pyomo\n",
      "Successfully installed PyUtilib-5.6.5 appdirs-1.4.3 ply-3.11 pyomo-5.6.1\n"
     ]
    }
   ],
   "source": [
    "#!pip install pyomo"
   ]
  },
  {
   "cell_type": "code",
   "execution_count": 11,
   "metadata": {
    "colab": {},
    "colab_type": "code",
    "id": "b-E2otZE7cGA"
   },
   "outputs": [],
   "source": [
    "from pyutilib.services import register_executable, registered_executable\n",
    "register_executable(name='glpk')\n",
    "import numpy as np\n",
    "import itertools\n",
    "from pyomo.environ import *\n",
    "# import pyomo.environ as pyo\n",
    "from pyomo.core import *\n",
    "from pyomo.opt import SolverFactory\n",
    "from pyomo.pysp.annotations import (PySP_ConstraintStageAnnotation, StochasticConstraintBoundsAnnotation, StochasticConstraintBodyAnnotation)"
   ]
  },
  {
   "cell_type": "markdown",
   "metadata": {
    "colab_type": "text",
    "id": "fYahH86G3TuQ"
   },
   "source": [
    "## <center> Homework 3 - Deterministic Demand Network Problem  </center> ##\n"
   ]
  },
  {
   "cell_type": "markdown",
   "metadata": {
    "colab_type": "text",
    "id": "cTw5hk5y99T3"
   },
   "source": [
    "### DLP Modeling ###"
   ]
  },
  {
   "cell_type": "code",
   "execution_count": 2,
   "metadata": {
    "colab": {},
    "colab_type": "code",
    "id": "2JfKS4dY75OF"
   },
   "outputs": [
    {
     "name": "stdout",
     "output_type": "stream",
     "text": [
      "1 Set Declarations\n",
      "    x_index : Dim=0, Dimen=1, Size=5, Domain=None, Ordered=False, Bounds=None\n",
      "        ['x1', 'x2', 'x3', 'x4', 'x5']\n",
      "\n",
      "1 Var Declarations\n",
      "    x : Size=5, Index=x_index\n",
      "        Key : Lower : Value : Upper : Fixed : Stale : Domain\n",
      "         x1 :     0 :  None :  None : False :  True : NonNegativeIntegers\n",
      "         x2 :     0 :  None :  None : False :  True : NonNegativeIntegers\n",
      "         x3 :     0 :  None :  None : False :  True : NonNegativeIntegers\n",
      "         x4 :     0 :  None :  None : False :  True : NonNegativeIntegers\n",
      "         x5 :     0 :  None :  None : False :  True : NonNegativeIntegers\n",
      "\n",
      "1 Objective Declarations\n",
      "    obj : Size=1, Index=None, Active=True\n",
      "        Key  : Active : Sense    : Expression\n",
      "        None :   True : maximize : 280*x[x1] + 300*x[x2] + 190*x[x3] + 220*x[x4] + 140*x[x5]\n",
      "\n",
      "11 Constraint Declarations\n",
      "    c1 : Size=1, Index=None, Active=True\n",
      "        Key  : Lower : Body          : Upper : Active\n",
      "        None :  -Inf : x[x2] + x[x4] : 100.0 :   True\n",
      "    c2 : Size=1, Index=None, Active=True\n",
      "        Key  : Lower : Body          : Upper : Active\n",
      "        None :  -Inf : x[x1] + x[x3] : 100.0 :   True\n",
      "    c3 : Size=1, Index=None, Active=True\n",
      "        Key  : Lower : Body                                  : Upper : Active\n",
      "        None :  -Inf : x[x1] + x[x2] + x[x3] + x[x4] + x[x5] : 300.0 :   True\n",
      "    c4 : Size=1, Index=None, Active=True\n",
      "        Key  : Lower : Body          : Upper : Active\n",
      "        None :  -Inf : x[x2] + x[x4] : 100.0 :   True\n",
      "    c5 : Size=1, Index=None, Active=True\n",
      "        Key  : Lower : Body  : Upper : Active\n",
      "        None :  -Inf : x[x5] : 100.0 :   True\n",
      "    c6 : Size=1, Index=None, Active=True\n",
      "        Key  : Lower : Body          : Upper : Active\n",
      "        None :  -Inf : x[x1] + x[x3] : 100.0 :   True\n",
      "    d1 : Size=1, Index=None, Active=True\n",
      "        Key  : Lower : Body  : Upper : Active\n",
      "        None :  -Inf : x[x1] :  50.0 :   True\n",
      "    d2 : Size=1, Index=None, Active=True\n",
      "        Key  : Lower : Body  : Upper : Active\n",
      "        None :  -Inf : x[x2] :  30.0 :   True\n",
      "    d3 : Size=1, Index=None, Active=True\n",
      "        Key  : Lower : Body  : Upper : Active\n",
      "        None :  -Inf : x[x3] : 200.0 :   True\n",
      "    d4 : Size=1, Index=None, Active=True\n",
      "        Key  : Lower : Body  : Upper : Active\n",
      "        None :  -Inf : x[x4] : 100.0 :   True\n",
      "    d5 : Size=1, Index=None, Active=True\n",
      "        Key  : Lower : Body  : Upper : Active\n",
      "        None :  -Inf : x[x5] : 160.0 :   True\n",
      "\n",
      "1 Suffix Declarations\n",
      "    dual : Direction=Suffix.IMPORT, Datatype=Suffix.FLOAT\n",
      "        Key : Value\n",
      "\n",
      "15 Declarations: x_index x obj c1 c2 c3 c4 c5 c6 d1 d2 d3 d4 d5 dual\n"
     ]
    }
   ],
   "source": [
    "model = ConcreteModel()\n",
    "opt = SolverFactory('glpk')\n",
    "\n",
    "X = ['x1','x2','x3','x4','x5']\n",
    "model.x = Var(X,within=NonNegativeIntegers)\n",
    "\n",
    "v = {1:280,2:300,3:190,4:220,5:140}\n",
    "c = [[0,1,1,0,0,1],\n",
    "     [1,0,1,1,0,0],\n",
    "     [0,1,1,0,0,1],\n",
    "     [1,0,1,1,0,0],\n",
    "     [0,0,1,0,1,0]]\n",
    "capa = {1:100,2:100,3:300,4:100,5:100,6:100}\n",
    "d_mean = {1:50,2:30,3:200,4:100,5:160}\n",
    "\n",
    "# Objective \n",
    "model.obj = Objective(expr= model.x['x1']*v[1]+model.x['x2']*v[2]+model.x['x3']*v[3]\n",
    "                      +model.x['x4']*v[4]+model.x['x5']*v[5],sense=maximize)\n",
    "\n",
    "\n",
    "# Capacity Constraint\n",
    "c1 =np.transpose(c)[0]\n",
    "model.c1 = Constraint(expr= model.x['x1']*c1[0]+model.x['x2']*c1[1]+model.x['x3']*c1[2]\n",
    "                      +model.x['x4']*c1[3]+model.x['x5']*c1[4] <= capa[1])\n",
    "c2 =np.transpose(c)[1]\n",
    "model.c2 = Constraint(expr= model.x['x1']*c2[0]+model.x['x2']*c2[1]+model.x['x3']*c2[2]\n",
    "                      +model.x['x4']*c2[3]+model.x['x5']*c2[4] <= capa[2])\n",
    "c3 =np.transpose(c)[2]\n",
    "model.c3 = Constraint(expr= model.x['x1']*c3[0]+model.x['x2']*c3[1]+model.x['x3']*c3[2]\n",
    "                      +model.x['x4']*c3[3]+model.x['x5']*c3[4] <= capa[3])\n",
    "c4 =np.transpose(c)[3]\n",
    "model.c4 = Constraint(expr= model.x['x1']*c4[0]+model.x['x2']*c4[1]+model.x['x3']*c4[2]\n",
    "                      +model.x['x4']*c4[3]+model.x['x5']*c4[4] <= capa[4])\n",
    "c5 =np.transpose(c)[4]\n",
    "model.c5 = Constraint(expr= model.x['x1']*c5[0]+model.x['x2']*c5[1]+model.x['x3']*c5[2]\n",
    "                      +model.x['x4']*c5[3]+model.x['x5']*c5[4] <= capa[5])\n",
    "c6 =np.transpose(c)[5]\n",
    "model.c6 = Constraint(expr= model.x['x1']*c6[0]+model.x['x2']*c6[1]+model.x['x3']*c6[2]\n",
    "                      +model.x['x4']*c6[3]+model.x['x5']*c6[4] <= capa[6])\n",
    "\n",
    "# Remaining Demand Constraint (when D is average D)\n",
    "\n",
    "upper = {'x1':50, 'x2':30, 'x3':200, 'x4':100, 'x5':160}\n",
    "\n",
    "model.d1 = Constraint(expr = model.x['x1'] <= upper['x1']) \n",
    "model.d2 = Constraint(expr = model.x['x2'] <= upper['x2']) \n",
    "model.d3 = Constraint(expr = model.x['x3'] <= upper['x3']) \n",
    "model.d4 = Constraint(expr = model.x['x4'] <= upper['x4']) \n",
    "model.d5 = Constraint(expr = model.x['x5'] <= upper['x5']) \n",
    "\n",
    "model.dual = pyo.Suffix(direction=pyo.Suffix.IMPORT)\n",
    "model.pprint()"
   ]
  },
  {
   "cell_type": "code",
   "execution_count": 3,
   "metadata": {},
   "outputs": [
    {
     "name": "stdout",
     "output_type": "stream",
     "text": [
      "Model unknown\n",
      "\n",
      "  Variables:\n",
      "    x : Size=5, Index=x_index\n",
      "        Key : Lower : Value : Upper : Fixed : Stale : Domain\n",
      "         x1 :     0 :  50.0 :  None : False : False : NonNegativeIntegers\n",
      "         x2 :     0 :  30.0 :  None : False : False : NonNegativeIntegers\n",
      "         x3 :     0 :  50.0 :  None : False : False : NonNegativeIntegers\n",
      "         x4 :     0 :  70.0 :  None : False : False : NonNegativeIntegers\n",
      "         x5 :     0 : 100.0 :  None : False : False : NonNegativeIntegers\n",
      "\n",
      "  Objectives:\n",
      "    obj : Size=1, Index=None, Active=True\n",
      "        Key  : Active : Value\n",
      "        None :   True : 61900.0\n",
      "\n",
      "  Constraints:\n",
      "    c1 : Size=1\n",
      "        Key  : Lower : Body  : Upper\n",
      "        None :  None : 100.0 : 100.0\n",
      "    c2 : Size=1\n",
      "        Key  : Lower : Body  : Upper\n",
      "        None :  None : 100.0 : 100.0\n",
      "    c3 : Size=1\n",
      "        Key  : Lower : Body  : Upper\n",
      "        None :  None : 300.0 : 300.0\n",
      "    c4 : Size=1\n",
      "        Key  : Lower : Body  : Upper\n",
      "        None :  None : 100.0 : 100.0\n",
      "    c5 : Size=1\n",
      "        Key  : Lower : Body  : Upper\n",
      "        None :  None : 100.0 : 100.0\n",
      "    c6 : Size=1\n",
      "        Key  : Lower : Body  : Upper\n",
      "        None :  None : 100.0 : 100.0\n",
      "    d1 : Size=1\n",
      "        Key  : Lower : Body : Upper\n",
      "        None :  None : 50.0 :  50.0\n",
      "    d2 : Size=1\n",
      "        Key  : Lower : Body : Upper\n",
      "        None :  None : 30.0 :  30.0\n",
      "    d3 : Size=1\n",
      "        Key  : Lower : Body : Upper\n",
      "        None :  None : 50.0 : 200.0\n",
      "    d4 : Size=1\n",
      "        Key  : Lower : Body : Upper\n",
      "        None :  None : 70.0 : 100.0\n",
      "    d5 : Size=1\n",
      "        Key  : Lower : Body  : Upper\n",
      "        None :  None : 100.0 : 160.0\n"
     ]
    }
   ],
   "source": [
    "results = opt.solve(model)\n",
    "model.display()\n",
    "# print (\"Duals\")\n",
    "# for c in model.component_objects(pyo.Constraint, active=True):\n",
    "#     print (\"   Constraint\",c)\n",
    "#     for index in c:\n",
    "#         print (\"      \", index, model.dual[c[index]])"
   ]
  },
  {
   "cell_type": "code",
   "execution_count": 5,
   "metadata": {},
   "outputs": [
    {
     "ename": "NameError",
     "evalue": "name 'GLPK' is not defined",
     "output_type": "error",
     "traceback": [
      "\u001b[0;31m---------------------------------------------------------------------------\u001b[0m",
      "\u001b[0;31mNameError\u001b[0m                                 Traceback (most recent call last)",
      "\u001b[0;32m<ipython-input-5-d36f8ae6feac>\u001b[0m in \u001b[0;36m<module>\u001b[0;34m()\u001b[0m\n\u001b[0;32m----> 1\u001b[0;31m \u001b[0mGLPK\u001b[0m\u001b[0;34m.\u001b[0m\u001b[0mglp_get_col_prim\u001b[0m\u001b[0;34m(\u001b[0m\u001b[0mmodel\u001b[0m\u001b[0;34m,\u001b[0m\u001b[0mj\u001b[0m\u001b[0;34m)\u001b[0m   \u001b[0;31m# retrieve primal solution\u001b[0m\u001b[0;34m\u001b[0m\u001b[0;34m\u001b[0m\u001b[0m\n\u001b[0m\u001b[1;32m      2\u001b[0m \u001b[0mGLPK\u001b[0m\u001b[0;34m.\u001b[0m\u001b[0mglp_get_row_dual\u001b[0m\u001b[0;34m(\u001b[0m\u001b[0mmodel\u001b[0m\u001b[0;34m,\u001b[0m\u001b[0mi\u001b[0m\u001b[0;34m)\u001b[0m   \u001b[0;31m# retrieve duals\u001b[0m\u001b[0;34m\u001b[0m\u001b[0;34m\u001b[0m\u001b[0m\n",
      "\u001b[0;31mNameError\u001b[0m: name 'GLPK' is not defined"
     ]
    }
   ],
   "source": [
    "# GLPK.glp_get_col_prim(model,j)   # retrieve primal solution\n",
    "# GLPK.glp_get_row_dual(model,i)   # retrieve duals"
   ]
  },
  {
   "cell_type": "markdown",
   "metadata": {},
   "source": [
    "### PNLP Modeling###"
   ]
  },
  {
   "cell_type": "code",
   "execution_count": 1,
   "metadata": {},
   "outputs": [
    {
     "name": "stdout",
     "output_type": "stream",
     "text": [
      "WARNING: DEPRECATED: 'PySP_ConstraintStageAnnotation' is no longer recognized\n",
      "    (constraint stages are automatically inferred). It will be removed in the\n",
      "    future. Please update your model file.\n"
     ]
    }
   ],
   "source": [
    "import numpy as np\n",
    "import pandas as pd\n",
    "import itertools\n",
    "from pyomo.environ import *\n",
    "from pyomo.core import *\n",
    "from pyomo.pysp.annotations import (PySP_ConstraintStageAnnotation, StochasticConstraintBoundsAnnotation, \n",
    "                                    StochasticConstraintBodyAnnotation)\n",
    "\n",
    "model = ConcreteModel()\n",
    "\n",
    "v = {1:280,2:300,3:190,4:220,5:140}\n",
    "c = [[0,1,1,0,0,1],\n",
    "     [1,0,1,1,0,0],\n",
    "     [0,1,1,0,0,1],\n",
    "     [1,0,1,1,0,0],\n",
    "     [0,0,1,0,1,0]]\n",
    "capa = {1:100,2:100,3:300,4:100,5:100,6:100}\n",
    "d_mean = {1:50,2:30,3:200,4:100,5:160}\n",
    "\n",
    "# Possible Demands \n",
    "d1_rhs_table = [25,50,75]\n",
    "d2_rhs_table = [15,30,45]\n",
    "d3_rhs_table = [100,200,300]\n",
    "d4_rhs_table = [50,100,150]\n",
    "d5_rhs_table = [80,160,240]\n",
    "\n",
    "model.constraint_stage = PySP_ConstraintStageAnnotation()\n",
    "model.stoch_rhs = StochasticConstraintBoundsAnnotation()\n",
    "num_scenarios = len(d1_rhs_table) * len(d2_rhs_table) * len(d3_rhs_table) * len(d4_rhs_table) * len(d5_rhs_table)\n",
    "scenario_data = dict(('Scenario'+str(i), (d1val, d22val, d3val, d4val, d5val))\n",
    "                     for i, (d1val, d22val, d3val, d4val, d5val) in\n",
    "                     enumerate (itertools.product(d1_rhs_table, d2_rhs_table, d3_rhs_table, d4_rhs_table, d5_rhs_table),1))\n",
    "\n",
    "# Declare Variables\n",
    "model.x1 = Var(within=NonNegativeIntegers)\n",
    "model.x2 = Var(within=NonNegativeIntegers)\n",
    "model.x3 = Var(within=NonNegativeIntegers)\n",
    "model.x4 = Var(within=NonNegativeIntegers)\n",
    "model.x5 = Var(within=NonNegativeIntegers)\n",
    "\n",
    "model.t1 = Var(within=NonNegativeIntegers)\n",
    "model.t2 = Var(within=NonNegativeIntegers)\n",
    "model.t3 = Var(within=NonNegativeIntegers)\n",
    "model.t4 = Var(within=NonNegativeIntegers)\n",
    "model.t5 = Var(within=NonNegativeIntegers)\n",
    "\n",
    "model.d1_rhs = Param(mutable=True, initialize=0.0)\n",
    "model.d2_rhs = Param(mutable=True, initialize=0.0)\n",
    "model.d3_rhs = Param(mutable=True, initialize=0.0)\n",
    "model.d4_rhs = Param(mutable=True, initialize=0.0)\n",
    "model.d5_rhs = Param(mutable=True, initialize=0.0)\n",
    "\n",
    "# Objective \n",
    "# model.obj = Objective(expr= model.x['x1']*v[1]+model.x['x2']*v[2]+model.x['x3']*v[3]\n",
    "#                       +model.x['x4']*v[4]+model.x['x5']*v[5],sense=maximize)\n",
    "model.FirstStageCost = Expression(initialize=0)\n",
    "model.SecondStageCost = Expression(initialize=model.t1*v[1]+model.t2*v[2]+model.t3*v[3]\n",
    "                      +model.t4*v[4]+model.t5*v[5])\n",
    "\n",
    "# Capacity Constraints\n",
    "c1 =np.transpose(c)[0]\n",
    "model.c1 = Constraint(expr= model.x1*c1[0]+model.x2*c1[1]+model.x3*c1[2]\n",
    "                      +model.x4*c1[3]+model.x5*c1[4] <= capa[1])\n",
    "model.constraint_stage.declare(model.c1,1)\n",
    "c2 =np.transpose(c)[1]\n",
    "model.c2 = Constraint(expr= model.x1*c2[0]+model.x2*c2[1]+model.x3*c2[2]\n",
    "                      +model.x4*c2[3]+model.x5*c2[4] <= capa[2])\n",
    "model.constraint_stage.declare(model.c2,1)\n",
    "c3 =np.transpose(c)[2]\n",
    "model.c3 = Constraint(expr= model.x1*c3[0]+model.x2*c3[1]+model.x3*c3[2]\n",
    "                      +model.x4*c3[3]+model.x5*c3[4] <= capa[3])\n",
    "model.constraint_stage.declare(model.c3,1)\n",
    "c4 =np.transpose(c)[3]\n",
    "model.c4 = Constraint(expr= model.x1*c4[0]+model.x2*c4[1]+model.x3*c4[2]\n",
    "                      +model.x4*c4[3]+model.x5*c4[4] <= capa[4])\n",
    "model.constraint_stage.declare(model.c4,1)\n",
    "c5 =np.transpose(c)[4]\n",
    "model.c5 = Constraint(expr= model.x1*c5[0]+model.x2*c5[1]+model.x3*c5[2]\n",
    "                      +model.x4*c5[3]+model.x5*c5[4] <= capa[5])\n",
    "model.constraint_stage.declare(model.c5,1)\n",
    "c6 =np.transpose(c)[5]\n",
    "model.c6 = Constraint(expr= model.x1*c6[0]+model.x2*c6[1]+model.x3*c6[2]\n",
    "                      +model.x4*c6[3]+model.x5*c6[4] <= capa[6])\n",
    "model.constraint_stage.declare(model.c6,1)\n",
    "\n",
    "# Second Stage Min{X,D} Constraint (when D is stochastic)\n",
    "model.d11 = Constraint(expr=model.t1 <= model.d1_rhs)\n",
    "model.constraint_stage.declare(model.d11,2)\n",
    "model.stoch_rhs.declare(model.d11)\n",
    "\n",
    "model.d12 = Constraint(expr=model.t1 - model.x1 <= 0)\n",
    "model.constraint_stage.declare(model.d12,2)\n",
    "\n",
    "model.d21 = Constraint(expr=model.t2 <= model.d2_rhs)\n",
    "model.constraint_stage.declare(model.d21,2)\n",
    "model.stoch_rhs.declare(model.d21)\n",
    "\n",
    "model.d22 = Constraint(expr=model.t2 - model.x2 <= 0)\n",
    "model.constraint_stage.declare(model.d22,2)\n",
    "\n",
    "model.d31 = Constraint(expr=model.t3 <= model.d3_rhs)\n",
    "model.constraint_stage.declare(model.d31,2)\n",
    "model.stoch_rhs.declare(model.d31)\n",
    "\n",
    "model.d32 = Constraint(expr=model.t3 - model.x3 <= 0)\n",
    "model.constraint_stage.declare(model.d32,2)\n",
    "\n",
    "model.d41 = Constraint(expr=model.t4 <= model.d4_rhs)\n",
    "model.constraint_stage.declare(model.d41,2)\n",
    "model.stoch_rhs.declare(model.d41)\n",
    "\n",
    "model.d42 = Constraint(expr=model.t4 - model.x4 <= 0)\n",
    "model.constraint_stage.declare(model.d42,2)\n",
    "\n",
    "model.d51 = Constraint(expr=model.t5 <= model.d5_rhs)\n",
    "model.constraint_stage.declare(model.d51,2)\n",
    "model.stoch_rhs.declare(model.d51)\n",
    "\n",
    "model.d52 = Constraint(expr=model.t5 - model.x5 <= 0)\n",
    "model.constraint_stage.declare(model.d52,2)\n",
    "\n",
    "# Final Objective\n",
    "model.obj = Objective(expr=model.FirstStageCost+(model.SecondStageCost)*(-1))"
   ]
  },
  {
   "cell_type": "code",
   "execution_count": 5,
   "metadata": {},
   "outputs": [],
   "source": [
    "def pysp_scenario_tree_model_callback():\n",
    "    from pyomo.pysp.scenariotree.tree_structure_model import \\\n",
    "        CreateConcreteTwoStageScenarioTreeModel\n",
    "\n",
    "    st_model = CreateConcreteTwoStageScenarioTreeModel(num_scenarios)\n",
    "\n",
    "    first_stage = st_model.Stages.first()\n",
    "    second_stage = st_model.Stages.last()\n",
    "\n",
    "    # First Stage\n",
    "    st_model.StageCost[first_stage] = 'FirstStageCost'  \n",
    "    st_model.StageVariables[first_stage].add('x1')\n",
    "    st_model.StageVariables[first_stage].add('x2')\n",
    "    st_model.StageVariables[first_stage].add('x3')\n",
    "    st_model.StageVariables[first_stage].add('x4')\n",
    "    st_model.StageVariables[first_stage].add('x5')\n",
    "    # Second Stage\n",
    "    st_model.StageCost[second_stage] = 'SecondStageCost'\n",
    "    st_model.StageVariables[second_stage].add('t1')\n",
    "    st_model.StageVariables[second_stage].add('t2')\n",
    "    st_model.StageVariables[second_stage].add('t3')\n",
    "    st_model.StageVariables[second_stage].add('t4')\n",
    "    st_model.StageVariables[second_stage].add('t5')\n",
    "    return st_model\n",
    "\n",
    "def pysp_instance_creation_callback(scenario_name, node_names):\n",
    "\n",
    "    #\n",
    "    # Clone a new instance and update the stochastic\n",
    "    # parameters from the sampled scenario\n",
    "    #\n",
    "\n",
    "    instance = model.clone()\n",
    "\n",
    "    d1_rhs_val, d2_rhs_val, d3_rhs_val, d4_rhs_val, d5_rhs_val  = scenario_data[scenario_name]\n",
    "    instance.d1_rhs.value = d1_rhs_val\n",
    "    instance.d2_rhs.value = d2_rhs_val\n",
    "    instance.d3_rhs.value = d3_rhs_val\n",
    "    instance.d4_rhs.value = d4_rhs_val\n",
    "    instance.d5_rhs.value = d5_rhs_val\n",
    "\n",
    "    return instance"
   ]
  },
  {
   "cell_type": "code",
   "execution_count": 6,
   "metadata": {
    "scrolled": true
   },
   "outputs": [
    {
     "name": "stdout",
     "output_type": "stream",
     "text": [
      "/anaconda3/envs/yulenv/lib/python3.6/runpy.py:125: RuntimeWarning: 'pyomo.pysp.convert.smps' found in sys.modules after import of package 'pyomo.pysp.convert', but prior to execution of 'pyomo.pysp.convert.smps'; this may result in unpredictable behaviour\n",
      "  warn(RuntimeWarning(msg))\n",
      "ERROR: Failed to extract reference model python file from path specification:\n",
      "    itinerary_network.py\n",
      "pyomo.pysp.convert.smps: IO ERROR:\n",
      "path does not exist: /Users/yul/Desktop/Github Fetch/Pyomo/itinerary_network.py\n",
      "\n",
      "To obtain further information regarding the source of the exception, use the --traceback option\n"
     ]
    }
   ],
   "source": [
    "!python -m pyomo.pysp.convert.smps -m itinerary_network.py --basename Itinerary \\--output-directory sdinput/Itinerary --symbolic-solver-labels"
   ]
  },
  {
   "cell_type": "markdown",
   "metadata": {},
   "source": [
    "# Detailed Solution\n",
    "\n",
    "Problem:                                itinerary\n",
    "First Stage Rows:                       7\n",
    "First Stage Columns:                    5\n",
    "First Stage Non-zeros:                  14\n",
    "Mean solution is recommended for this instance.\n",
    "Number of replications:                 3\n",
    "Status:                                 MEAN SOLUTION\n",
    "Total Objective Function Upper Bound:   -55577.455,[-55854.883036,-55300.026806],half-width:277.428, stdev:141.545\n",
    "Total Objective Function Lower Bound:   -55858.584,[-56141.896414,-55575.271904],half-width:283.312, stdev:66.334\n",
    "\n",
    "First Stage Solutions:\n",
    "   No.   Row name   Activity      Lower bound   Upper bound   Dual          Dual STDEV\n",
    "------ ------------ ------------- ------------- ------------- ------------- -------------\n",
    "     0 obj          -5.557745e+04 \n",
    "     1 c_u_c1_       1.000000e+02                1.000000e+02  0.000000e+00  0.000000e+00 \n",
    "     2 c_u_c2_       1.000000e+02                1.000000e+02  0.000000e+00  0.000000e+00 \n",
    "     3 c_u_c3_       3.000000e+02                3.000000e+02 -5.292233e+01  1.805748e+00 \n",
    "     4 c_u_c4_       1.000000e+02                1.000000e+02 -9.739842e+01  3.506494e+00 \n",
    "     5 c_u_c5_       1.000000e+02                1.000000e+02 -3.798426e+01  8.747996e-01 \n",
    "     6 c_u_c6_       1.000000e+02                1.000000e+02 -1.366615e+02  1.883460e+00 \n",
    "\n",
    "   No. Column name  Activity      Lower bound   Upper bound   Reduced Cost  RC STDEV\n",
    "------ ------------ ------------- ------------- ------------- ------------- -------------\n",
    "     1 x1            2.500000e+01  0.000000e+00               0.000000e+00  0.000000e+00 \n",
    "     2 x2            3.000000e+01  0.000000e+00               0.000000e+00  0.000000e+00 \n",
    "     3 x3            7.500000e+01  0.000000e+00               0.000000e+00  0.000000e+00 \n",
    "     4 x4            7.000000e+01  0.000000e+00               0.000000e+00  0.000000e+00 \n",
    "     5 x5            1.000000e+02  0.000000e+00               0.000000e+00  0.000000e+00 "
   ]
  },
  {
   "cell_type": "code",
   "execution_count": null,
   "metadata": {},
   "outputs": [],
   "source": []
  }
 ],
 "metadata": {
  "colab": {
   "collapsed_sections": [],
   "name": "Itinerary Network Problem.ipynb",
   "provenance": [],
   "toc_visible": true,
   "version": "0.3.2"
  },
  "kernelspec": {
   "display_name": "Python 3",
   "language": "python",
   "name": "python3"
  },
  "language_info": {
   "codemirror_mode": {
    "name": "ipython",
    "version": 3
   },
   "file_extension": ".py",
   "mimetype": "text/x-python",
   "name": "python",
   "nbconvert_exporter": "python",
   "pygments_lexer": "ipython3",
   "version": "3.6.8"
  }
 },
 "nbformat": 4,
 "nbformat_minor": 1
}
